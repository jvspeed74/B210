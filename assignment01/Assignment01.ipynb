{
 "cells": [
  {
   "cell_type": "markdown",
   "id": "9efe5b9ad67ea218",
   "metadata": {
    "collapsed": false
   },
   "source": [
    "In the time before credit cards and electronic banking, stores often had to make change for customers. The modern United States Treasury uses 4 different coins for denominations less than 1 dollar quarters, dimes, nickles, and pennies each worth $0.25, $0.10, $0.05, and $0.01 respectively. Additionally, they issue dollars in denominations of $100, $50, $20, $10, $5, and $1. In the following problems, you will be given an amount tendered, and the total cost. Write a program that will determine the amount of change needed and the minimum amount of each of the dollar denominations and coins needed for the transaction.\n",
    "\n",
    "$100 tendered, $36.57 cost\n",
    "\n",
    "$80 tendered, $64.09 cost\n",
    "\n",
    "$10 tendered, $3.81 cost\n",
    "\n",
    "$50 tendered, $14.36 cost"
   ]
  },
  {
   "cell_type": "code",
   "execution_count": 22,
   "id": "9b9a6b251710cfee",
   "metadata": {
    "collapsed": false,
    "ExecuteTime": {
     "end_time": "2024-01-23T15:03:26.368199Z",
     "start_time": "2024-01-23T15:03:26.364098Z"
    }
   },
   "outputs": [
    {
     "name": "stdout",
     "output_type": "stream",
     "text": [
      "Tender: $100, Cost: $36.57\n",
      "Your change is $63.43\n",
      "$50 bills required: 1\n",
      "$10 bills required: 1\n",
      "$1 bills required: 3\n",
      "25¢ required: 1\n",
      "10¢ required: 1\n",
      "5¢ required: 1\n",
      "1¢ required: 3\n",
      "============================\n",
      "Tender: $80, Cost: $64.09\n",
      "Your change is $15.91\n",
      "$10 bills required: 1\n",
      "$5 bills required: 1\n",
      "25¢ required: 3\n",
      "10¢ required: 1\n",
      "5¢ required: 1\n",
      "1¢ required: 1\n",
      "============================\n",
      "Tender: $10, Cost: $3.81\n",
      "Your change is $6.19\n",
      "$5 bills required: 1\n",
      "$1 bills required: 1\n",
      "10¢ required: 1\n",
      "5¢ required: 1\n",
      "1¢ required: 4\n",
      "============================\n",
      "Tender: $50, Cost: $14.36\n",
      "Your change is $35.64\n",
      "$20 bills required: 1\n",
      "$10 bills required: 1\n",
      "$5 bills required: 1\n",
      "25¢ required: 2\n",
      "10¢ required: 1\n",
      "1¢ required: 4\n",
      "============================\n"
     ]
    }
   ],
   "source": [
    "# import defaultdict \n",
    "from collections import defaultdict\n",
    "\n",
    "# declare denominations\n",
    "dollar_deno = [100, 50, 20, 10, 5, 1]\n",
    "coin_deno = [25, 10, 5, 1]\n",
    "\n",
    "# declare test cases:\n",
    "# {key: value} == {amount_tendered: item_cost}\n",
    "tender_cost = {\n",
    "    100: 36.57,\n",
    "    80: 64.09,\n",
    "    10: 3.81,\n",
    "    50: 14.36\n",
    "}\n",
    "\n",
    "\n",
    "def get_change(tender, cost):\n",
    "    \"\"\"\n",
    "    Calculates the difference between tender and cost\n",
    "    :param float tender:\n",
    "    :param float cost:\n",
    "    :return: tender minus cost rounded to two decimal places\n",
    "    :rtype: float\n",
    "    \"\"\"\n",
    "    return round(tender - cost, 2)\n",
    "\n",
    "\n",
    "def get_minimum_amount(value, deno, memo=None):\n",
    "    \"\"\"\n",
    "    Finds the minimum amount of the set denomination required to reach zero using recursion\n",
    "    :param int value: Remaining change to find the minimum amount for\n",
    "    :param list deno: List of the denominations to use for recursion\n",
    "    :param dict memo: Memoization dictionary used to store results\n",
    "    :return: Dictionary with the count of each required denomination\n",
    "    :rtype: dict\n",
    "    \"\"\"\n",
    "\n",
    "    # declare dict for memoization\n",
    "    # using defaultdict to skip initializing key=0 manually\n",
    "    if memo is None:\n",
    "        memo = defaultdict(int)\n",
    "\n",
    "    # base case\n",
    "    if value == 0:\n",
    "        return memo\n",
    "\n",
    "    # iterate through denominations\n",
    "    for i in range(len(deno)):\n",
    "        # continue if value - denomination isn't possible\n",
    "        if value - deno[i] < 0:\n",
    "            continue\n",
    "\n",
    "        # subtract value by denomination and increment dollar/coin count in dict\n",
    "        value -= deno[i]\n",
    "        memo[deno[i]] += 1\n",
    "        \n",
    "        # recursive call\n",
    "        return get_minimum_amount(value, deno[i:], memo)\n",
    "\n",
    "\n",
    "\n",
    "def get_answer(dollar_dict, coin_dict):\n",
    "    \"\"\"\n",
    "    Formats and prints the minimum amount of dollars and coins\n",
    "    :param dict dollar_dict: Dictionary containing required dollar information\n",
    "    :param dict coin_dict: Dictionary containing required coin information\n",
    "    \"\"\"\n",
    "    for k, v in dollar_dict.items():\n",
    "        print(f\"${k} bills required: {v}\")\n",
    "\n",
    "    for k, v in coin_dict.items():\n",
    "        print(f\"{k}¢ required: {v}\")\n",
    "\n",
    "\n",
    "def main():\n",
    "    \"\"\"\n",
    "    Iterates through test cases and prints the minimum amount of dollars and coins required.\n",
    "    \"\"\"\n",
    "    # iterate through each item in the test case\n",
    "    for tender, cost in tender_cost.items():\n",
    "        # print test case\n",
    "        print(f\"Tender: ${tender}, Cost: ${cost}\")\n",
    "\n",
    "        # calculate and print change\n",
    "        change = get_change(tender, cost)\n",
    "        print(f\"Your change is ${change}\")\n",
    "\n",
    "        # because of floating-point inaccuracies, split dollars and coins into separate integers\n",
    "        dollars, coins = str(change).split(\".\")\n",
    "        dollars, coins = int(dollars), int(coins)\n",
    "\n",
    "        # pass dollars, coins into recursive function get_minimum_amount which returns dict\n",
    "        # pass dict into get_answer to print answers in appropriate format\n",
    "        get_answer(get_minimum_amount(dollars, dollar_deno), get_minimum_amount(coins, coin_deno))\n",
    "\n",
    "        # decorator between iterations\n",
    "        print(\"============================\")\n",
    "\n",
    "\n",
    "main()\n"
   ]
  },
  {
   "cell_type": "markdown",
   "id": "20f46ff1c5aa8d73",
   "metadata": {
    "collapsed": false
   },
   "source": [
    "Around the world there are 3 commonly used scales used for measuring temperature, Celsius, Kelvin, and Fahrenheit. In the following problems you will be given a temperature in one scale, and a different scale. Write a program that will calculate the temperature for the given scale. Consider the following link for formulas converting between temperature scales: https://www.thoughtco.com/temperature-conversion-formulas-609324Links to an external site.\n",
    "\n",
    "98.6°F, Celsius\n",
    "\n",
    "329.7 Kelvin, Fahrenheit\n",
    "\n",
    "-60.9°C, Kelvin"
   ]
  },
  {
   "cell_type": "code",
   "execution_count": 1,
   "id": "da7d6233a6551542",
   "metadata": {
    "collapsed": false,
    "ExecuteTime": {
     "end_time": "2024-01-23T16:44:29.821901Z",
     "start_time": "2024-01-23T16:44:29.812094Z"
    }
   },
   "outputs": [
    {
     "name": "stdout",
     "output_type": "stream",
     "text": [
      "37.0 degrees Celsius\n",
      "134.06 degrees Fahrenheit\n",
      "212.1 degrees Kelvin\n"
     ]
    }
   ],
   "source": [
    "# Fahrenheit to Celsius\n",
    "fahr_to_cels = (5 / 9) * (98.6 - 32)\n",
    "\n",
    "# Kelvin to Fahrenheit\n",
    "kelv_to_fahr = (9 / 5) * (329.7 - 273) + 32\n",
    "\n",
    "# Celsius to Kelvin\n",
    "cels_to_kelv = -60.9 + 273\n",
    "\n",
    "# Print answers\n",
    "print(fahr_to_cels, \"degrees Celsius\")\n",
    "print(kelv_to_fahr, \"degrees Fahrenheit\")\n",
    "print(cels_to_kelv, \"degrees Kelvin\")"
   ]
  }
 ],
 "metadata": {
  "kernelspec": {
   "display_name": "Python 3 (ipykernel)",
   "language": "python",
   "name": "python3"
  },
  "language_info": {
   "codemirror_mode": {
    "name": "ipython",
    "version": 3
   },
   "file_extension": ".py",
   "mimetype": "text/x-python",
   "name": "python",
   "nbconvert_exporter": "python",
   "pygments_lexer": "ipython3",
   "version": "3.11.5"
  }
 },
 "nbformat": 4,
 "nbformat_minor": 5
}
