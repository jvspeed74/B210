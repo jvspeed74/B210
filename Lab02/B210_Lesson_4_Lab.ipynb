{
 "cells": [
  {
   "cell_type": "markdown",
   "id": "f49d7fe2",
   "metadata": {},
   "source": [
    "#### For each lesson, there will be a corresponding lab to complete during the Thursday portion of class. To complete the lab, simply follow the cells step-by-step, adding your code where appropriate. Be sure to run your code to ensure correctness and completeness without errors. \n",
    "\n",
    "# Lecture 4 Lab\n",
    "In this lab, we'll be reviewing the basics of string variables. We'll practice utilizing strings in conjunction with numeric variables, and performing operations regarding strings.\n",
    "\n",
    "## Prompt\n",
    "Use your knowledge of Python variables and functions to address each of the following prompts."
   ]
  },
  {
   "cell_type": "markdown",
   "id": "8e7dc46a",
   "metadata": {},
   "source": [
    "#### 1. Store the following text (including the header) as a string variable, and name it appropriately. Recall the use of escape characters (\"\\\\\") and how to insert a new line in a string:  \n",
    "\n",
    "From The Lord of the Rings:  \n",
    "\n",
    "\"So do I,\" said Gandalf, 'and so do all who live to see such times. But that is not for them to decide. All we have to decide is what to do with the time that is given us.'"
   ]
  },
  {
   "cell_type": "code",
   "execution_count": 2,
   "id": "82b13535",
   "metadata": {
    "ExecuteTime": {
     "end_time": "2024-01-25T15:09:38.157318Z",
     "start_time": "2024-01-25T15:09:38.151607Z"
    }
   },
   "outputs": [
    {
     "name": "stdout",
     "output_type": "stream",
     "text": [
      "From The Lord of the Rings:\n",
      "\"So do I,\" said Gandalf, 'and so do all who live to see such times. But that is not for them to decide. All we have to decide is what to do with the time that is given us.\n"
     ]
    }
   ],
   "source": [
    "print(\"From The Lord of the Rings:\\n\\\"So do I,\\\" said Gandalf, 'and so do all who live to see such times. But that is not for them to decide. All we have to decide is what to do with the time that is given us.\")"
   ]
  },
  {
   "cell_type": "markdown",
   "id": "c22bcb77",
   "metadata": {},
   "source": [
    "#### 2. In many data applications, it is often necessary to create tab-seperated files, or .tsv's. \n",
    "\n",
    "#### Without modifying the original strings directly (only use the string operators and escape characters):\n",
    "\n",
    "#### - remove the commas from the end of the strings and \n",
    "#### - concatenate (combine) them with tabs as seperation.\n",
    "\n",
    "\n",
    "\n",
    "For example:\n",
    "\n",
    "Logan,\n",
    "Johnson,\n",
    "TA\n",
    "\n",
    "to \n",
    "\n",
    "Logan(tab)Johnson(tab)TA"
   ]
  },
  {
   "cell_type": "code",
   "execution_count": 5,
   "id": "1ef076bd",
   "metadata": {
    "ExecuteTime": {
     "end_time": "2024-01-25T15:16:42.770869Z",
     "start_time": "2024-01-25T15:16:42.766554Z"
    }
   },
   "outputs": [
    {
     "name": "stdout",
     "output_type": "stream",
     "text": [
      "INFO\tB\t210\n"
     ]
    }
   ],
   "source": [
    "#these are the parts to combine\n",
    "part_1=\"INFO,\"\n",
    "part_2=\"B,\"\n",
    "part_3=\"210\"\n",
    "\n",
    "#combine them down here\n",
    "print(part_1 + \"\\b\", part_2 + \"\\b\", part_3, sep='\\t')"
   ]
  },
  {
   "cell_type": "markdown",
   "id": "2f34c861",
   "metadata": {},
   "source": [
    "#### 3. In mathematics, a googol is a number equivalent to 1 followed by 100 zeroes. Using string operators, recreate the number (as a string) and print it to the terminal."
   ]
  },
  {
   "cell_type": "code",
   "execution_count": 17,
   "id": "f75ad8ae",
   "metadata": {
    "ExecuteTime": {
     "end_time": "2024-01-25T16:26:18.594021Z",
     "start_time": "2024-01-25T16:26:18.583044Z"
    }
   },
   "outputs": [
    {
     "name": "stdout",
     "output_type": "stream",
     "text": [
      "10000000000000000000000000000000000000000000000000000000000000000000000000000000000000000000000000000\n"
     ]
    }
   ],
   "source": [
    "print(\"1\" + \"0\" * 100)"
   ]
  },
  {
   "cell_type": "markdown",
   "id": "2b4a847f",
   "metadata": {},
   "source": [
    "#### 4. Sometimes in computing, it is valuable to represent characters in alternative machine values, such as octal and hex.\n",
    "\n",
    "- Using the following table: https://www.ibm.com/docs/en/aix/7.2?topic=adapters-ascii-decimal-hexadecimal-octal-binary-conversion-table, write your preferred name in BOTH **octal** and **hex** notation\n",
    "\n",
    "- For names longer than 10 letters, you only need to use the first ten letters.\n",
    "\n",
    "- Please write your name as a string in characters alongside these for grading :)"
   ]
  },
  {
   "cell_type": "code",
   "execution_count": 7,
   "id": "3c2c989f",
   "metadata": {
    "ExecuteTime": {
     "end_time": "2024-01-25T15:23:15.267727Z",
     "start_time": "2024-01-25T15:23:15.243378Z"
    }
   },
   "outputs": [
    {
     "name": "stdout",
     "output_type": "stream",
     "text": [
      "Jalen\n",
      "Jalen\n",
      "Jalen\n"
     ]
    }
   ],
   "source": [
    "#For instance, LOGAN in octal is \"\\114\\117\\107\\101\\116\" and in hex is \"\\x4C\\4F\\x47\\x41\\4E\"\n",
    "\n",
    "# octal\n",
    "print(\"\\112\\141\\154\\145\\156\")\n",
    "\n",
    "# hex\n",
    "print(\"\\x4a\\x61\\x6c\\x65\\x6e\")\n",
    "\n",
    "# actual\n",
    "print(\"Jalen\")"
   ]
  },
  {
   "cell_type": "markdown",
   "id": "9a398be8",
   "metadata": {},
   "source": [
    "#### 5. There are 10 students in a class, and their letter grades are stored in the following string. \n",
    "\n",
    "#### What grade does the fifth student in the class have? Print it to the terminal using string indexing.\n",
    "\n",
    "(Spoiler Alert: There are better ways to store this type of data...more on that later ;)"
   ]
  },
  {
   "cell_type": "code",
   "execution_count": 9,
   "id": "047122ca",
   "metadata": {
    "ExecuteTime": {
     "end_time": "2024-01-25T15:24:42.301834Z",
     "start_time": "2024-01-25T15:24:42.298092Z"
    }
   },
   "outputs": [
    {
     "name": "stdout",
     "output_type": "stream",
     "text": [
      "Grade of the fifth student: B\n"
     ]
    }
   ],
   "source": [
    "grades= \"AFDCBDCADF\"\n",
    "\n",
    "print(\"Grade of the fifth student:\", grades[4])"
   ]
  },
  {
   "cell_type": "markdown",
   "id": "da88c0a5",
   "metadata": {},
   "source": [
    "#### 5. In English, a palindrome is a word that is the same when read forwards and backwards. \n",
    "\n",
    "#### One of the longest is the word \"detartrated\" meaning \"To remove tartrates, especially from fruit juices and wines, in order to reduce tartness or sourness\"\n",
    "\n",
    "#### Using string slicing methods, reverse the string to prove the word is indeed a palindrome."
   ]
  },
  {
   "cell_type": "code",
   "execution_count": 10,
   "id": "ebf70beb",
   "metadata": {
    "ExecuteTime": {
     "end_time": "2024-01-25T15:25:24.022459Z",
     "start_time": "2024-01-25T15:25:24.016357Z"
    }
   },
   "outputs": [
    {
     "name": "stdout",
     "output_type": "stream",
     "text": [
      "!detartrated\n"
     ]
    }
   ],
   "source": [
    "#the exclaimation point is included to help you tell if your code actually reversed the string\n",
    "palindrome = \"detartrated!\"\n",
    "\n",
    "print(palindrome[::-1])"
   ]
  },
  {
   "cell_type": "markdown",
   "id": "68bd7663",
   "metadata": {},
   "source": [
    "#### 6. The root (or base) of detartrated is \"tartrate.\" \n",
    "\n",
    "#### Using string slicing methods, extract the word \"tartrate\" from the string."
   ]
  },
  {
   "cell_type": "code",
   "execution_count": 11,
   "id": "61b6229e",
   "metadata": {
    "ExecuteTime": {
     "end_time": "2024-01-25T15:26:26.046874Z",
     "start_time": "2024-01-25T15:26:26.028045Z"
    }
   },
   "outputs": [
    {
     "name": "stdout",
     "output_type": "stream",
     "text": [
      "tartrate\n"
     ]
    }
   ],
   "source": [
    "palindrome= \"detartrated!\"\n",
    "\n",
    "print(palindrome[2:-2])"
   ]
  },
  {
   "cell_type": "markdown",
   "id": "0f8bfdf5",
   "metadata": {},
   "source": [
    "#### 7. Another interesting property is that by taking the first character (start index at 0/default), and every third character after that (step size 3), you can spell the word \"dare\".\n",
    "\n",
    "####  Use string slicing methods to extract the word, demonstrating this property."
   ]
  },
  {
   "cell_type": "code",
   "execution_count": 12,
   "id": "8702b397",
   "metadata": {
    "ExecuteTime": {
     "end_time": "2024-01-25T15:27:09.725130Z",
     "start_time": "2024-01-25T15:27:09.710500Z"
    }
   },
   "outputs": [
    {
     "name": "stdout",
     "output_type": "stream",
     "text": [
      "dare\n"
     ]
    }
   ],
   "source": [
    "palindrome= \"detartrated!\"\n",
    "\n",
    "print(palindrome[::3])"
   ]
  },
  {
   "cell_type": "markdown",
   "id": "e0fcadf8",
   "metadata": {},
   "source": [
    "#### 8. Finally, following these requests, I am sure you are about sick of seeing the word. \n",
    "\n",
    "#### Change \"detartrated!\" to \"retartrated!\". The variable should retain the name \"palindrome\". You should have two lines of code (what is currently there, and your solution)."
   ]
  },
  {
   "cell_type": "code",
   "execution_count": 14,
   "id": "3b0bc908",
   "metadata": {
    "ExecuteTime": {
     "end_time": "2024-01-25T15:29:16.561899Z",
     "start_time": "2024-01-25T15:29:16.558Z"
    }
   },
   "outputs": [
    {
     "name": "stdout",
     "output_type": "stream",
     "text": [
      "retartrated!\n"
     ]
    }
   ],
   "source": [
    "palindrome=\"detartrated!\"  #do not change this portion\n",
    "\n",
    "print(\"r\" + palindrome[1:])"
   ]
  },
  {
   "cell_type": "markdown",
   "id": "9b265684",
   "metadata": {},
   "source": [
    "#### Following this lab, how confident are you in your ability to perform basic string manipulation, slicing and operations? Is there anything you still have questions over? Points of confusion? Feel free to write them below or in the Canvas discussion. "
   ]
  },
  {
   "cell_type": "markdown",
   "id": "d349f09d",
   "metadata": {},
   "source": [
    "Nah I'm goated. No issues or points of confusion."
   ]
  }
 ],
 "metadata": {
  "kernelspec": {
   "display_name": "Python 3 (ipykernel)",
   "language": "python",
   "name": "python3"
  },
  "language_info": {
   "codemirror_mode": {
    "name": "ipython",
    "version": 3
   },
   "file_extension": ".py",
   "mimetype": "text/x-python",
   "name": "python",
   "nbconvert_exporter": "python",
   "pygments_lexer": "ipython3",
   "version": "3.9.17"
  }
 },
 "nbformat": 4,
 "nbformat_minor": 5
}
