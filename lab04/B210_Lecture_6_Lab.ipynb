{
 "cells": [
  {
   "cell_type": "markdown",
   "id": "f49d7fe2",
   "metadata": {},
   "source": [
    "#### For each lesson, there will be a corresponding lab to complete during the Thursday portion of class. To complete the lab, simply follow the cells step-by-step, adding your code where appropriate. Be sure to run your code to ensure correctness and completeness without errors. \n",
    "\n",
    "# Lecture 6 Lab\n",
    "In this lab, we'll be reviewing conditional execution if-elif-else from last week. Additionally, we will begin working with compound conditionals and while loops.\n",
    "\n",
    "## Prompt\n",
    "Use your knowledge of Python variables and fucntions to address each of the following prompts."
   ]
  },
  {
   "cell_type": "markdown",
   "id": "8e7dc46a",
   "metadata": {},
   "source": [
    "#### 1. Write an if statement so that:\n",
    "> if age is greater than or equal to 18 the variable age_type is set to \"Adult\"\n",
    "> else the variable age_type is set to \"Child\""
   ]
  },
  {
   "cell_type": "code",
   "outputs": [],
   "source": [
    "#test this section with\n",
    "age = 14\n",
    "#write your if-else statement here\n",
    "if age >= 18:\n",
    "    age_type = \"Adult\"\n",
    "else:\n",
    "    age_type = \"Child\""
   ],
   "metadata": {
    "collapsed": false,
    "ExecuteTime": {
     "end_time": "2024-02-08T16:08:43.784902Z",
     "start_time": "2024-02-08T16:08:43.779040Z"
    }
   },
   "id": "2259650c948abd1c",
   "execution_count": 9
  },
  {
   "cell_type": "markdown",
   "id": "2f34c861",
   "metadata": {},
   "source": [
    "#### 2. Now, write the  conditional statements:\n",
    "        \n",
    "     if (age_type is equal to \"Adult\" **AND** in_education is equal to True) then print \"College\"\n",
    "     else if (age_type is equal to \"Child\" **AND** in_education is equal to True) then print \"Primary or Secondary School\"\n",
    "     else if (in_education is False **OR** age is less than 5) then print \"Not enrolled in education\"\n",
    "     else print \"Invalid Input\""
   ]
  },
  {
   "cell_type": "code",
   "execution_count": 10,
   "id": "93d6d8bc",
   "metadata": {
    "ExecuteTime": {
     "end_time": "2024-02-08T16:08:49.511162Z",
     "start_time": "2024-02-08T16:08:49.505503Z"
    }
   },
   "outputs": [
    {
     "name": "stdout",
     "output_type": "stream",
     "text": [
      "Not enrolled in education\n"
     ]
    }
   ],
   "source": [
    "in_education = False\n",
    "#write your compound if-else if-else statement here\n",
    "if age_type == 'Adult' and in_education == True:\n",
    "    print(\"College\")\n",
    "elif age_type == 'Child' and in_education == True:\n",
    "    print(\"Primary or Secondary School\")\n",
    "elif in_education == False or age < 5:\n",
    "    print(\"Not enrolled in education\")\n",
    "else:\n",
    "    print(\"Invalid Input\")"
   ]
  },
  {
   "cell_type": "markdown",
   "id": "a9463206",
   "metadata": {},
   "source": [
    "#### 3. Take your if-else section from problem 1, and your if-elif-else section from problem 2, and copy them into the cell below. \n",
    "\n",
    "#### Then, run the cell to make sure everything works together!"
   ]
  },
  {
   "cell_type": "code",
   "execution_count": 8,
   "id": "a8c14c1d",
   "metadata": {
    "ExecuteTime": {
     "end_time": "2024-02-08T16:08:00.811539Z",
     "start_time": "2024-02-08T16:08:00.808267Z"
    }
   },
   "outputs": [
    {
     "name": "stdout",
     "output_type": "stream",
     "text": [
      "College\n"
     ]
    }
   ],
   "source": [
    "#these are our test variables\n",
    "age = 18\n",
    "in_education = True\n",
    "#Copy your if-else from problem 1 here\n",
    "if age >= 18:\n",
    "    age_type = \"Adult\"\n",
    "else:\n",
    "    age_type = \"Child\"\n",
    "#Copy your if-elif-else statement from problem 2 here\n",
    "if age_type == 'Adult' and in_education == True:\n",
    "    print(\"College\")\n",
    "elif age_type == 'Child' and in_education == True:\n",
    "    print(\"Primary or Secondary School\")\n",
    "elif in_education == False or age < 5:\n",
    "    print(\"Not enrolled in education\")\n",
    "else:\n",
    "    print(\"Invalid Input\")"
   ]
  },
  {
   "cell_type": "markdown",
   "id": "b9970587",
   "metadata": {},
   "source": [
    "If everything works, we have created a program that can take the age variable, determines whether the person is an adult or child, and then based on whether or not the person is in education, prints what type of education they are in."
   ]
  },
  {
   "cell_type": "markdown",
   "id": "47a98d4a",
   "metadata": {},
   "source": [
    "#### 4. What is the variable called that dictates how long a loop should run? (in the slides)\n"
   ]
  },
  {
   "cell_type": "markdown",
   "source": [
    "Iteration Variable"
   ],
   "metadata": {
    "collapsed": false
   },
   "id": "fedd7b1eeee31fed"
  },
  {
   "cell_type": "markdown",
   "id": "3cfcb660",
   "metadata": {},
   "source": [
    "#### 5. What is this variable in \"for\" loops, and where is it found in \"while\" loops? (same slide)"
   ]
  },
  {
   "cell_type": "markdown",
   "id": "c27c448e",
   "metadata": {},
   "source": [
    "For: The iteration variable is the variable keeping track of the count.\n",
    "\n",
    "While: The iteration variable is in the condition"
   ]
  },
  {
   "cell_type": "markdown",
   "id": "424d1684",
   "metadata": {},
   "source": [
    "#### 6. Write a while loop to count to 10, with condition:\n",
    "\n",
    "        x is not equal to 10\n",
    "        \n",
    "#### and inside the loop:\n",
    "\n",
    "        increase x by 1, and save to variable x\n",
    "        and print (x)"
   ]
  },
  {
   "cell_type": "code",
   "execution_count": 1,
   "id": "acd7d37a",
   "metadata": {
    "ExecuteTime": {
     "end_time": "2024-02-08T15:53:30.269842Z",
     "start_time": "2024-02-08T15:53:30.266151Z"
    }
   },
   "outputs": [
    {
     "name": "stdout",
     "output_type": "stream",
     "text": [
      "-4\n",
      "-3\n",
      "-2\n",
      "-1\n",
      "0\n",
      "1\n",
      "2\n",
      "3\n",
      "4\n",
      "5\n",
      "6\n",
      "7\n",
      "8\n",
      "9\n",
      "10\n"
     ]
    }
   ],
   "source": [
    "#this is the starting value of x\n",
    "x = -5\n",
    "#write your while loop here\n",
    "while x != 10:\n",
    "    x += 1\n",
    "    print(x)"
   ]
  },
  {
   "cell_type": "markdown",
   "id": "4bf3214f",
   "metadata": {},
   "source": [
    "There is a bit of a problem. If the starting value of x is less than 10, then the program runs fine, however if the starting value of x is *greater* than 10, then it will run infinitely."
   ]
  },
  {
   "cell_type": "markdown",
   "id": "29a5b32c-b214-4035-854f-48e54c139aa7",
   "metadata": {},
   "source": [
    "#### 7. Let's add a break statement to exit the loop if x is greater than 10.\n",
    "\n",
    "#### Inside of the loop from the last problem, add this AFTER the print statement:\n",
    "\n",
    "    if x is greater than 10:\n",
    "    \n",
    "#### this is what happens:\n",
    "    break the loop\n",
    "\n"
   ]
  },
  {
   "cell_type": "code",
   "execution_count": 4,
   "id": "46226d2b",
   "metadata": {
    "ExecuteTime": {
     "end_time": "2024-02-08T16:03:05.521902Z",
     "start_time": "2024-02-08T16:03:05.519246Z"
    }
   },
   "outputs": [
    {
     "name": "stdout",
     "output_type": "stream",
     "text": [
      "13\n"
     ]
    }
   ],
   "source": [
    "#this is the starting value of x\n",
    "x = 12\n",
    "#write your new while loop here\n",
    "while x != 10:\n",
    "    x += 1\n",
    "    print(x)\n",
    "\n",
    "    if x > 10:\n",
    "        break"
   ]
  },
  {
   "cell_type": "markdown",
   "id": "a87fae37",
   "metadata": {},
   "source": [
    "We still have problem. What if the starting number is a significantly large negative (-100 trillion), then what? The count will take forever."
   ]
  },
  {
   "cell_type": "markdown",
   "id": "49c7650b",
   "metadata": {},
   "source": [
    "#### 8. Let's add a second break statement to exit the loop if the number of runs is greater than or equal to 50.\n",
    "\n",
    "#### Inside of the loop from the last problem, add this AFTER the break statement, (but outside of the previous if statement)\n",
    "\n",
    "    a way to count the number of runs (hint: use a counter variable \"runs\")\n",
    "    if runs is greater than or equal to 50:\n",
    "    \n",
    "#### this is what happens:\n",
    "    \n",
    "    print \"Maximum iterations reached\"\n",
    "    break the loop\n",
    "\n",
    "\n",
    "(your code after this problem should now be)\n",
    "\n",
    "while ...\n",
    "    \n",
    "    actions\n",
    "    \n",
    "    break statement for greater than 10\n",
    "    \n",
    "    break statement for runs greater than or equal to 50"
   ]
  },
  {
   "cell_type": "code",
   "execution_count": 3,
   "id": "95c15429",
   "metadata": {
    "ExecuteTime": {
     "end_time": "2024-02-08T16:02:47.605423Z",
     "start_time": "2024-02-08T16:02:47.597662Z"
    }
   },
   "outputs": [
    {
     "name": "stdout",
     "output_type": "stream",
     "text": [
      "-99999999999999\n",
      "-99999999999998\n",
      "-99999999999997\n",
      "-99999999999996\n",
      "-99999999999995\n",
      "-99999999999994\n",
      "-99999999999993\n",
      "-99999999999992\n",
      "-99999999999991\n",
      "-99999999999990\n",
      "-99999999999989\n",
      "-99999999999988\n",
      "-99999999999987\n",
      "-99999999999986\n",
      "-99999999999985\n",
      "-99999999999984\n",
      "-99999999999983\n",
      "-99999999999982\n",
      "-99999999999981\n",
      "-99999999999980\n",
      "-99999999999979\n",
      "-99999999999978\n",
      "-99999999999977\n",
      "-99999999999976\n",
      "-99999999999975\n",
      "-99999999999974\n",
      "-99999999999973\n",
      "-99999999999972\n",
      "-99999999999971\n",
      "-99999999999970\n",
      "-99999999999969\n",
      "-99999999999968\n",
      "-99999999999967\n",
      "-99999999999966\n",
      "-99999999999965\n",
      "-99999999999964\n",
      "-99999999999963\n",
      "-99999999999962\n",
      "-99999999999961\n",
      "-99999999999960\n",
      "-99999999999959\n",
      "-99999999999958\n",
      "-99999999999957\n",
      "-99999999999956\n",
      "-99999999999955\n",
      "-99999999999954\n",
      "-99999999999953\n",
      "-99999999999952\n",
      "-99999999999951\n",
      "-99999999999950\n",
      "-99999999999949\n",
      "Maximum iteration reached\n"
     ]
    }
   ],
   "source": [
    "#these are the starting values\n",
    "runs = 0\n",
    "x = -100000000000000\n",
    "#write our complete loop here\n",
    "while x != 10:\n",
    "    x += 1\n",
    "    print(x)\n",
    "\n",
    "    if x > 10:\n",
    "        break\n",
    "\n",
    "    if runs >= 50:\n",
    "        print(\"Maximum iteration reached\")\n",
    "        break\n",
    "\n",
    "    runs += 1"
   ]
  },
  {
   "cell_type": "markdown",
   "id": "3e1089f9",
   "metadata": {},
   "source": [
    "#### 9. We've found a way to catch unnecessarily large numbers of runs, but what if our number was -41? We would stop 1 before our target of 10!\n",
    "\n",
    "#### Let's add a continue statement so that if we are within 50 of our target number after 50 runs, we continue instead of breaking.\n",
    "\n",
    "#### Inside of our break if statement for runs, lets add another if statement:\n",
    "\n",
    "    if 10 minus x is less than or equal to 50 then continue\n",
    "    else break\n",
    "    \n",
    "\n",
    "(your code after this problem should look like)\n",
    "\n",
    "while ...\n",
    "    \n",
    "    actions\n",
    "    \n",
    "    break statement for greater than 10\n",
    "    \n",
    "    if runs greater than or equal to 50\n",
    "        if 10-x is less than or equal to 50 continue\n",
    "        else break"
   ]
  },
  {
   "cell_type": "code",
   "execution_count": 6,
   "id": "ad1ea5cd",
   "metadata": {
    "ExecuteTime": {
     "end_time": "2024-02-08T16:06:05.200908Z",
     "start_time": "2024-02-08T16:06:05.175967Z"
    }
   },
   "outputs": [
    {
     "name": "stdout",
     "output_type": "stream",
     "text": [
      "-87\n",
      "-86\n",
      "-85\n",
      "-84\n",
      "-83\n",
      "-82\n",
      "-81\n",
      "-80\n",
      "-79\n",
      "-78\n",
      "-77\n",
      "-76\n",
      "-75\n",
      "-74\n",
      "-73\n",
      "-72\n",
      "-71\n",
      "-70\n",
      "-69\n",
      "-68\n",
      "-67\n",
      "-66\n",
      "-65\n",
      "-64\n",
      "-63\n",
      "-62\n",
      "-61\n",
      "-60\n",
      "-59\n",
      "-58\n",
      "-57\n",
      "-56\n",
      "-55\n",
      "-54\n",
      "-53\n",
      "-52\n",
      "-51\n",
      "-50\n",
      "-49\n",
      "-48\n",
      "-47\n",
      "-46\n",
      "-45\n",
      "-44\n",
      "-43\n",
      "-42\n",
      "-41\n",
      "-40\n",
      "-39\n",
      "-38\n",
      "-37\n",
      "-36\n",
      "-35\n",
      "-34\n",
      "-33\n",
      "-32\n",
      "-31\n",
      "-30\n",
      "-29\n",
      "-28\n",
      "-27\n",
      "-26\n",
      "-25\n",
      "-24\n",
      "-23\n",
      "-22\n",
      "-21\n",
      "-20\n",
      "-19\n",
      "-18\n",
      "-17\n",
      "-16\n",
      "-15\n",
      "-14\n",
      "-13\n",
      "-12\n",
      "-11\n",
      "-10\n",
      "-9\n",
      "-8\n",
      "-7\n",
      "-6\n",
      "-5\n",
      "-4\n",
      "-3\n",
      "-2\n",
      "-1\n",
      "0\n",
      "1\n",
      "2\n",
      "3\n",
      "4\n",
      "5\n",
      "6\n",
      "7\n",
      "8\n",
      "9\n",
      "10\n"
     ]
    }
   ],
   "source": [
    "runs = 0\n",
    "x = -88\n",
    "#write your complete loop here\n",
    "while x != 10:\n",
    "    x += 1\n",
    "    print(x)\n",
    "\n",
    "    if x > 10:\n",
    "        break\n",
    "\n",
    "    if runs >= 50:\n",
    "        if 10 - x <= 50:\n",
    "            continue\n",
    "        else:\n",
    "            print(\"Maximum iteration reached\")\n",
    "            break\n",
    "        \n",
    "    runs += 1"
   ]
  }
 ],
 "metadata": {
  "kernelspec": {
   "display_name": "Python 3 (ipykernel)",
   "language": "python",
   "name": "python3"
  },
  "language_info": {
   "codemirror_mode": {
    "name": "ipython",
    "version": 3
   },
   "file_extension": ".py",
   "mimetype": "text/x-python",
   "name": "python",
   "nbconvert_exporter": "python",
   "pygments_lexer": "ipython3",
   "version": "3.9.18"
  }
 },
 "nbformat": 4,
 "nbformat_minor": 5
}
