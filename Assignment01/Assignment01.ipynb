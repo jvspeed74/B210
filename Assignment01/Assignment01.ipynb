{
 "cells": [
  {
   "cell_type": "markdown",
   "source": [
    "In the time before credit cards and electronic banking, stores often had to make change for customers. The modern United States Treasury uses 4 different coins for denominations less than 1 dollar quarters, dimes, nickles, and pennies each worth $0.25, $0.10, $0.05, and $0.01 respectively. Additionally, they issue dollars in denominations of $100, $50, $20, $10, $5, and $1. In the following problems, you will be given an amount tendered, and the total cost. Write a program that will determine the amount of change needed and the minimum amount of each of the dollar denominations and coins needed for the transaction.\n",
    "\n",
    "$100 tendered, $36.57 cost\n",
    "\n",
    "$80 tendered, $64.09 cost\n",
    "\n",
    "$10 tendered, $3.81 cost\n",
    "\n",
    "$50 tendered, $14.36 cost"
   ],
   "metadata": {
    "collapsed": false
   },
   "id": "9efe5b9ad67ea218"
  },
  {
   "cell_type": "code",
   "outputs": [
    {
     "name": "stdout",
     "output_type": "stream",
     "text": [
      "Your change is $63.43\n",
      "$50 bills required: 1\n",
      "$10 bills required: 1\n",
      "$1 bills required: 3\n",
      "0.25 cents required: 1\n",
      "0.1 cents required: 1\n",
      "0.05 cents required: 1\n",
      "0.01 cents required: 2\n"
     ]
    }
   ],
   "source": [
    "from collections import defaultdict\n",
    "\n",
    "# Find change\n",
    "# Find dollar amount\n",
    "# Find coin amount\n",
    "# Use recursion to subtract the highest dollar/coin value and store values in dict\n",
    "\n",
    "# declare denominations\n",
    "dollar_deno = [100, 50, 20, 10, 5, 1]\n",
    "coin_deno = [0.25, 0.10, 0.05, 0.01]\n",
    "\n",
    "# declare test cases\n",
    "tender_lst = [100, 80, 10, 50]\n",
    "cost_lst = [36.57, 64.09, 3.81, 14.36]\n",
    "\n",
    "\n",
    "def get_change(tender, cost):\n",
    "    change = tender - cost\n",
    "    print(f\"Your change is ${change}\")\n",
    "    return change\n",
    "\n",
    "\n",
    "def get_minimum_amount(change, memo=None):\n",
    "    if memo is None:\n",
    "        memo = defaultdict(int)\n",
    "\n",
    "    if change >= 1:\n",
    "        for i in range(len(dollar_deno)):\n",
    "            if change - dollar_deno[i] < 0:\n",
    "                continue\n",
    "\n",
    "            change -= dollar_deno[i]\n",
    "            memo[dollar_deno[i]] += 1\n",
    "            return get_minimum_amount(change, memo)\n",
    "\n",
    "    for i in range(len(coin_deno)):\n",
    "        if change - coin_deno[i] < 0:\n",
    "            continue\n",
    "\n",
    "        change -= coin_deno[i]\n",
    "        memo[coin_deno[i]] += 1\n",
    "        return get_minimum_amount(change, memo)\n",
    "\n",
    "    return get_answer(memo)\n",
    "\n",
    "\n",
    "def get_answer(minimum_amount):\n",
    "    for k, v in minimum_amount.items():\n",
    "        if k >= 1:\n",
    "            print(f\"${k} bills required: {v}\")\n",
    "        else:\n",
    "            print(f\"{k} cents required: {v}\")\n",
    "    return\n",
    "\n",
    "\n",
    "def main():\n",
    "    get_minimum_amount(get_change(100, 36.57))\n",
    "\n",
    "\n",
    "main()"
   ],
   "metadata": {
    "collapsed": false,
    "ExecuteTime": {
     "end_time": "2024-01-22T18:32:56.738330Z",
     "start_time": "2024-01-22T18:32:56.737796Z"
    }
   },
   "id": "9b9a6b251710cfee",
   "execution_count": 13
  },
  {
   "cell_type": "markdown",
   "source": [
    "Around the world there are 3 commonly used scales used for measuring temperature, Celsius, Kelvin, and Fahrenheit. In the following problems you will be given a temperature in one scale, and a different scale. Write a program that will calculate the temperature for the given scale. Consider the following link for formulas converting between temperature scales: https://www.thoughtco.com/temperature-conversion-formulas-609324Links to an external site.\n",
    "\n",
    "98.6°F, Celsius\n",
    "\n",
    "329.7 Kelvin, Fahrenheit\n",
    "\n",
    "-60.9°C, Kelvin"
   ],
   "metadata": {
    "collapsed": false
   },
   "id": "20f46ff1c5aa8d73"
  },
  {
   "cell_type": "code",
   "outputs": [
    {
     "name": "stdout",
     "output_type": "stream",
     "text": [
      "37.0 degrees Celsius\n",
      "134.06 degrees Fahrenheit\n",
      "212.1 degrees Kelvin\n"
     ]
    }
   ],
   "source": [
    "# Fahr to Celc\n",
    "ans1 = (5 / 9) * (98.6 - 32)\n",
    "\n",
    "# Kelv to Fahr\n",
    "ans2 = (9 / 5) * (329.7 - 273) + 32\n",
    "\n",
    "# Celc to Kelv\n",
    "ans3 = -60.9 + 273\n",
    "\n",
    "# Print answers\n",
    "print(ans1, \"degrees Celsius\")\n",
    "print(ans2, \"degrees Fahrenheit\")\n",
    "print(ans3, \"degrees Kelvin\")"
   ],
   "metadata": {
    "collapsed": false,
    "ExecuteTime": {
     "end_time": "2024-01-18T18:46:37.317859Z",
     "start_time": "2024-01-18T18:46:37.313733Z"
    }
   },
   "id": "da7d6233a6551542",
   "execution_count": 22
  }
 ],
 "metadata": {
  "kernelspec": {
   "display_name": "Python 3",
   "language": "python",
   "name": "python3"
  },
  "language_info": {
   "codemirror_mode": {
    "name": "ipython",
    "version": 2
   },
   "file_extension": ".py",
   "mimetype": "text/x-python",
   "name": "python",
   "nbconvert_exporter": "python",
   "pygments_lexer": "ipython2",
   "version": "2.7.6"
  }
 },
 "nbformat": 4,
 "nbformat_minor": 5
}
