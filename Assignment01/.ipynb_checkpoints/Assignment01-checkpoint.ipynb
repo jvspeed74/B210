{
 "cells": [
  {
   "cell_type": "markdown",
   "source": [
    "In the time before credit cards and electronic banking, stores often had to make change for customers. The modern United States Treasury uses 4 different coins for denominations less than 1 dollar quarters, dimes, nickles, and pennies each worth $0.25, $0.10, $0.05, and $0.01 respectively. Additionally, they issue dollars in denominations of $100, $50, $20, $10, $5, and $1. In the following problems, you will be given an amount tendered, and the total cost. Write a program that will determine the amount of change needed and the minimum amount of each of the dollar denominations and coins needed for the transaction.\n",
    "\n",
    "$100 tendered, $36.57 cost\n",
    "\n",
    "$80 tendered, $64.09 cost\n",
    "\n",
    "$10 tendered, $3.81 cost\n",
    "\n",
    "$50 tendered, $14.36 cost"
   ],
   "metadata": {
    "collapsed": false
   },
   "id": "9efe5b9ad67ea218"
  },
  {
   "cell_type": "code",
   "outputs": [
    {
     "name": "stdout",
     "output_type": "stream",
     "text": [
      "Your change is $63.43\n",
      "Your change is $15.91\n",
      "Your change is $6.19\n",
      "Your change is $35.64\n"
     ]
    }
   ],
   "source": [
    "# infinite loop for continuous running\n",
    "while True:\n",
    "    try:\n",
    "        # get user input\n",
    "        tender = float(input(\"Enter amount tendered in dollars\"))\n",
    "        cost = float(input(\"Enter the cost of item\"))\n",
    "\n",
    "        # error handling if negative\n",
    "        if tender < 0 or cost < 0:\n",
    "            print(\"Cannot compute negative numbers\")\n",
    "            continue\n",
    "\n",
    "    # error handling if non-numerical characters entered\n",
    "    except ValueError:\n",
    "        print(\"Please enter numerical characters\")\n",
    "        continue\n",
    "    else:\n",
    "        # calculate change\n",
    "        change = tender - cost\n",
    "        \n",
    "        # conditional to assess output\n",
    "        if change < 0:\n",
    "            print(\"You don't have enough money to buy this item\")\n",
    "        else:\n",
    "            print(\"Your change is $\"'{:.2f}'.format(change))\n",
    "\n",
    "    # prompt user to terminate script\n",
    "    end = input(\"Continue? (y/n)\")\n",
    "    if end != \"y\":\n",
    "        break"
   ],
   "metadata": {
    "collapsed": false,
    "ExecuteTime": {
     "end_time": "2024-01-18T21:28:54.846044Z",
     "start_time": "2024-01-18T21:28:24.315820Z"
    }
   },
   "id": "9b9a6b251710cfee",
   "execution_count": 27
  },
  {
   "cell_type": "markdown",
   "source": [
    "Around the world there are 3 commonly used scales used for measuring temperature, Celsius, Kelvin, and Fahrenheit. In the following problems you will be given a temperature in one scale, and a different scale. Write a program that will calculate the temperature for the given scale. Consider the following link for formulas converting between temperature scales: https://www.thoughtco.com/temperature-conversion-formulas-609324Links to an external site.\n",
    "\n",
    "98.6°F, Celsius\n",
    "\n",
    "329.7 Kelvin, Fahrenheit\n",
    "\n",
    "-60.9°C, Kelvin"
   ],
   "metadata": {
    "collapsed": false
   },
   "id": "20f46ff1c5aa8d73"
  },
  {
   "cell_type": "code",
   "outputs": [
    {
     "name": "stdout",
     "output_type": "stream",
     "text": [
      "37.0 degrees Celsius\n",
      "134.06 degrees Fahrenheit\n",
      "212.1 degrees Kelvin\n"
     ]
    }
   ],
   "source": [
    "# Fahr to Celc\n",
    "ans1 = (5 / 9) * (98.6 - 32)\n",
    "\n",
    "# Kelv to Fahr\n",
    "ans2 = (9 / 5) * (329.7 - 273) + 32\n",
    "\n",
    "# Celc to Kelv\n",
    "ans3 = -60.9 + 273\n",
    "\n",
    "print(ans1, \"degrees Celsius\")\n",
    "print(ans2, \"degrees Fahrenheit\")\n",
    "print(ans3, \"degrees Kelvin\")"
   ],
   "metadata": {
    "collapsed": false,
    "ExecuteTime": {
     "end_time": "2024-01-18T18:46:37.317859Z",
     "start_time": "2024-01-18T18:46:37.313733Z"
    }
   },
   "id": "da7d6233a6551542",
   "execution_count": 22
  }
 ],
 "metadata": {
  "kernelspec": {
   "display_name": "Python 3",
   "language": "python",
   "name": "python3"
  },
  "language_info": {
   "codemirror_mode": {
    "name": "ipython",
    "version": 2
   },
   "file_extension": ".py",
   "mimetype": "text/x-python",
   "name": "python",
   "nbconvert_exporter": "python",
   "pygments_lexer": "ipython2",
   "version": "2.7.6"
  }
 },
 "nbformat": 4,
 "nbformat_minor": 5
}
