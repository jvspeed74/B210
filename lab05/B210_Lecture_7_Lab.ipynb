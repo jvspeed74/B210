{
 "cells": [
  {
   "cell_type": "markdown",
   "id": "f49d7fe2",
   "metadata": {},
   "source": [
    "#### For each lesson, there will be a corresponding lab to complete during the Thursday portion of class. To complete the lab, simply follow the cells step-by-step, adding your code where appropriate. Be sure to run your code to ensure correctness and completeness without errors. \n",
    "\n",
    "# Lecture 7 Lab\n",
    "In this lab, we'll be reviewing the basics of loops from last week, and expanding into the space of for loops. We will also be using lists, a new variable type.\n",
    "\n",
    "## Prompt\n",
    "Use your knowledge of Python to address each of the following prompts."
   ]
  },
  {
   "cell_type": "markdown",
   "id": "2f34c861",
   "metadata": {},
   "source": [
    "#### 1. Using range(), create a range object (output of range) the contains the values 5 through 10."
   ]
  },
  {
   "cell_type": "code",
   "execution_count": 50,
   "id": "93d6d8bc",
   "metadata": {
    "ExecuteTime": {
     "end_time": "2024-02-15T15:54:04.499942Z",
     "start_time": "2024-02-15T15:54:04.474714Z"
    }
   },
   "outputs": [
    {
     "data": {
      "text/plain": "range(5, 11)"
     },
     "execution_count": 50,
     "metadata": {},
     "output_type": "execute_result"
    }
   ],
   "source": [
    "# create your range here\n",
    "\n",
    "range(5, 11)"
   ]
  },
  {
   "cell_type": "markdown",
   "id": "a9463206",
   "metadata": {},
   "source": [
    "#### 2. Using range(), create a range object (output of range) the contains the values 0 through 20, counting by twos."
   ]
  },
  {
   "cell_type": "code",
   "execution_count": 51,
   "id": "deea824b",
   "metadata": {
    "ExecuteTime": {
     "end_time": "2024-02-15T15:54:04.523217Z",
     "start_time": "2024-02-15T15:54:04.502536Z"
    }
   },
   "outputs": [
    {
     "data": {
      "text/plain": "range(0, 22, 2)"
     },
     "execution_count": 51,
     "metadata": {},
     "output_type": "execute_result"
    }
   ],
   "source": [
    "#create your range here\n",
    "range(0, 22, 2)"
   ]
  },
  {
   "cell_type": "markdown",
   "id": "330610dd",
   "metadata": {},
   "source": [
    "#### 3. Using a for loop, add all values in the range of 0 to 1000, counting by 5's. (you will have to update the variable each time!).\n",
    "\n",
    "#### Afterwards, print the sum."
   ]
  },
  {
   "cell_type": "code",
   "execution_count": 52,
   "id": "edfc18a4",
   "metadata": {
    "ExecuteTime": {
     "end_time": "2024-02-15T15:54:04.543047Z",
     "start_time": "2024-02-15T15:54:04.525645Z"
    }
   },
   "outputs": [
    {
     "name": "stdout",
     "output_type": "stream",
     "text": [
      "100500\n"
     ]
    }
   ],
   "source": [
    "#do so here!\n",
    "sum = 0\n",
    "for n in range(0, 1001, 5):\n",
    "    sum += n\n",
    "print(sum)"
   ]
  },
  {
   "cell_type": "markdown",
   "id": "8e7dc46a",
   "metadata": {},
   "source": [
    "#### 4. Create a list, named *emails*, that contains the following values in this order:\n",
    "\n",
    " - \"jd@a.org\"\n",
    " - \"js@a.org\"\n",
    " - 67000\n",
    " - \"bt@a.org\"\n",
    " - True\n",
    " - \"jk@fbi.gov\"\n",
    " - \"rt@fbi.gov\""
   ]
  },
  {
   "cell_type": "code",
   "execution_count": 53,
   "id": "1ef076bd",
   "metadata": {
    "ExecuteTime": {
     "end_time": "2024-02-15T15:54:04.543405Z",
     "start_time": "2024-02-15T15:54:04.529721Z"
    }
   },
   "outputs": [
    {
     "name": "stdout",
     "output_type": "stream",
     "text": [
      "['jd@a.org', 'js@a.org', 67000, 'bt@a.org', True, 'jk@fbi.gov', 'rt@fbi.gov']\n"
     ]
    }
   ],
   "source": [
    "#create your list here\n",
    "emails = [\"jd@a.org\", \"js@a.org\", 67000, \"bt@a.org\", True, \"jk@fbi.gov\", \"rt@fbi.gov\"]\n",
    "\n",
    "print(emails)"
   ]
  },
  {
   "cell_type": "markdown",
   "id": "f17e07e4",
   "metadata": {},
   "source": [
    "#### 5. Extract the list [67000, \"bt@a.org\", True] from *emails* using slicing."
   ]
  },
  {
   "cell_type": "code",
   "execution_count": 54,
   "id": "08c293f9",
   "metadata": {
    "ExecuteTime": {
     "end_time": "2024-02-15T15:54:04.553297Z",
     "start_time": "2024-02-15T15:54:04.545199Z"
    }
   },
   "outputs": [
    {
     "name": "stdout",
     "output_type": "stream",
     "text": [
      "[67000, 'bt@a.org', True]\n"
     ]
    }
   ],
   "source": [
    "#extract the list here\n",
    "print(emails[2:5])"
   ]
  },
  {
   "cell_type": "markdown",
   "id": "424d1684",
   "metadata": {},
   "source": [
    "#### 6. Write a for loop that iterates through the list *emails*. Each time, it should print the email."
   ]
  },
  {
   "cell_type": "code",
   "execution_count": 55,
   "id": "acd7d37a",
   "metadata": {
    "ExecuteTime": {
     "end_time": "2024-02-15T15:54:04.580173Z",
     "start_time": "2024-02-15T15:54:04.547822Z"
    }
   },
   "outputs": [
    {
     "name": "stdout",
     "output_type": "stream",
     "text": [
      "jd@a.org\n",
      "js@a.org\n",
      "67000\n",
      "bt@a.org\n",
      "True\n",
      "jk@fbi.gov\n",
      "rt@fbi.gov\n"
     ]
    }
   ],
   "source": [
    "#write your for loop here\n",
    "for entry in emails:\n",
    "    print(entry)"
   ]
  },
  {
   "cell_type": "markdown",
   "id": "29a5b32c-b214-4035-854f-48e54c139aa7",
   "metadata": {},
   "source": [
    "#### 7. The loop should work just as intended. Let's add functionality to count the number of times that the the loop has run, and then print it to the terminal after the loop has run to completion.\n",
    "\n",
    "#### Inside the loop, add a way to count the variable *runs*, which we will use to keep track. (Remember to also declare runs=0 outside of the loop)\n",
    "\n",
    "#### After the loop, add an else statement to print the number of times the loop has run.\n",
    "\n"
   ]
  },
  {
   "cell_type": "code",
   "execution_count": 56,
   "id": "46226d2b",
   "metadata": {
    "ExecuteTime": {
     "end_time": "2024-02-15T15:54:04.580490Z",
     "start_time": "2024-02-15T15:54:04.550230Z"
    }
   },
   "outputs": [
    {
     "name": "stdout",
     "output_type": "stream",
     "text": [
      "jd@a.org\n",
      "js@a.org\n",
      "67000\n",
      "bt@a.org\n",
      "True\n",
      "jk@fbi.gov\n",
      "rt@fbi.gov\n",
      "7\n"
     ]
    }
   ],
   "source": [
    "#write your for-else loop here\n",
    "runs = 0\n",
    "for entry in emails:\n",
    "    print(entry)\n",
    "    runs += 1\n",
    "\n",
    "else:\n",
    "    print(runs)"
   ]
  },
  {
   "cell_type": "markdown",
   "id": "a87fae37",
   "metadata": {},
   "source": [
    "We seem to have a problem, because our list contains non-string values (which aren't valid emails)."
   ]
  },
  {
   "cell_type": "markdown",
   "id": "49c7650b",
   "metadata": {},
   "source": [
    "#### 8. Reviewing from last week, add a way, before the runs counter, to skip values where their type isn't string. Recall the type() function.\n",
    "\n",
    "the inside of your loop should look like\n",
    "\n",
    "     (your skip solution)\n",
    "     runs counter\n",
    "     print statement"
   ]
  },
  {
   "cell_type": "code",
   "execution_count": 57,
   "id": "95c15429",
   "metadata": {
    "ExecuteTime": {
     "end_time": "2024-02-15T15:54:04.580965Z",
     "start_time": "2024-02-15T15:54:04.553807Z"
    }
   },
   "outputs": [
    {
     "name": "stdout",
     "output_type": "stream",
     "text": [
      "jd@a.org\n",
      "js@a.org\n",
      "bt@a.org\n",
      "jk@fbi.gov\n",
      "rt@fbi.gov\n",
      "5\n"
     ]
    }
   ],
   "source": [
    "#write your full solution (including the else statement) here\n",
    "runs = 0\n",
    "for entry in emails:\n",
    "    if type(entry) != str:\n",
    "        continue\n",
    "    \n",
    "    print(entry)\n",
    "    runs += 1\n",
    "\n",
    "else:\n",
    "    print(runs)"
   ]
  },
  {
   "cell_type": "markdown",
   "id": "3e1089f9",
   "metadata": {},
   "source": [
    "#### 9. Finally, when our email printer reaches an email that ends with .gov, it should break the loop immediately. We don't want to risk printing any classified information.\n",
    "\n",
    "#### Inside of your loop, add a way to break the loop if the last four characters of the string are \".gov\" (you will have to use string slicing for this!)\n",
    "\n",
    "the inside of your loop should look like\n",
    "\n",
    "     (your skip solution)\n",
    "     (your .gov break solution)\n",
    "     runs counter\n",
    "     print statement"
   ]
  },
  {
   "cell_type": "code",
   "execution_count": 58,
   "id": "e98b85d5",
   "metadata": {
    "ExecuteTime": {
     "end_time": "2024-02-15T15:54:04.581564Z",
     "start_time": "2024-02-15T15:54:04.556923Z"
    }
   },
   "outputs": [
    {
     "name": "stdout",
     "output_type": "stream",
     "text": [
      "jd@a.org\n",
      "js@a.org\n",
      "bt@a.org\n"
     ]
    }
   ],
   "source": [
    "#write your full solution (including the else statement) here\n",
    "runs = 0\n",
    "for entry in emails:\n",
    "    if type(entry) != str:\n",
    "        continue\n",
    "\n",
    "    if entry[-4:] == '.gov':\n",
    "        break\n",
    "\n",
    "    print(entry)\n",
    "    runs += 1\n",
    "\n",
    "else:\n",
    "    print(runs)"
   ]
  },
  {
   "cell_type": "markdown",
   "id": "5d26c347",
   "metadata": {},
   "source": [
    "#### 10. Your else statement should have stopped working after problem 9. Why does this occur?"
   ]
  },
  {
   "cell_type": "markdown",
   "id": "9a803b4a",
   "metadata": {},
   "source": [
    "In \"for, else\" blocks, the \"else\" only runs if the for loop completes without being broken with the \"break\" keyword."
   ]
  },
  {
   "cell_type": "markdown",
   "id": "7e998904",
   "metadata": {},
   "source": [
    "#### 11.  It is an important concept in programming to understand that although their syntax is different, while loops and for loops can oftentimes accomplish the same tasks depending on how they are structured.\n",
    "\n",
    "#### The loop from problem 6 can be also constructed as a while loop. Try to do so below. \n",
    "\n",
    "(You may need to add an additional element to the end of the list, to identify the end.)"
   ]
  },
  {
   "cell_type": "code",
   "execution_count": 59,
   "id": "77e9530e",
   "metadata": {
    "ExecuteTime": {
     "end_time": "2024-02-15T15:54:04.616096Z",
     "start_time": "2024-02-15T15:54:04.582559Z"
    }
   },
   "outputs": [
    {
     "name": "stdout",
     "output_type": "stream",
     "text": [
      "jd@a.org\n",
      "js@a.org\n",
      "67000\n",
      "bt@a.org\n",
      "True\n",
      "jk@fbi.gov\n",
      "rt@fbi.gov\n"
     ]
    }
   ],
   "source": [
    "#write your while loop here\n",
    "# for entry in emails:\n",
    "#     print(entry)\n",
    "\n",
    "i = 0\n",
    "while i < len(emails):\n",
    "    print(emails[i])\n",
    "    i += 1"
   ]
  },
  {
   "cell_type": "code",
   "outputs": [],
   "source": [],
   "metadata": {
    "collapsed": false,
    "ExecuteTime": {
     "end_time": "2024-02-15T15:54:04.638326Z",
     "start_time": "2024-02-15T15:54:04.615752Z"
    }
   },
   "id": "76d50c4ce44895fe",
   "execution_count": 59
  }
 ],
 "metadata": {
  "kernelspec": {
   "display_name": "Python 3 (ipykernel)",
   "language": "python",
   "name": "python3"
  },
  "language_info": {
   "codemirror_mode": {
    "name": "ipython",
    "version": 3
   },
   "file_extension": ".py",
   "mimetype": "text/x-python",
   "name": "python",
   "nbconvert_exporter": "python",
   "pygments_lexer": "ipython3",
   "version": "3.9.17"
  }
 },
 "nbformat": 4,
 "nbformat_minor": 5
}
