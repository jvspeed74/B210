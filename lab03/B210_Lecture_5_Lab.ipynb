{
 "cells": [
  {
   "cell_type": "markdown",
   "id": "f49d7fe2",
   "metadata": {},
   "source": [
    "#### For each lesson, there will be a corresponding lab to complete during the Thursday portion of class. To complete the lab, simply follow the cells step-by-step, adding your code where appropriate. Be sure to run your code to ensure correctness and completeness without errors. \n",
    "\n",
    "# Lecture 5 Lab\n",
    "In this lab, we'll cover the basics of typecasting and conditional execution, as well as practice applying user input and try/except handling. Finally, we'll review how to handle floating point arithmetic.\n",
    "\n",
    "## Prompt\n",
    "Use your knowledge of Python variables and functions to address each of the following prompts."
   ]
  },
  {
   "cell_type": "markdown",
   "id": "8e7dc46a",
   "metadata": {},
   "source": [
    "#### 1. Without changing the variable values, find a way to use both variables to create the following *string*:  \"2020\"\n",
    "\n",
    "Hint: recall the properties of strings and what happens when you multiply them by integers. Additionally, it is helpful to know that strings *cannot* be multiplied by floats. You will have to temporarily change the type of both variables."
   ]
  },
  {
   "cell_type": "code",
   "execution_count": 69,
   "id": "82b13535",
   "metadata": {
    "ExecuteTime": {
     "end_time": "2024-02-01T17:00:28.343205Z",
     "start_time": "2024-02-01T17:00:28.306816Z"
    }
   },
   "outputs": [
    {
     "name": "stdout",
     "output_type": "stream",
     "text": [
      "2020\n"
     ]
    }
   ],
   "source": [
    "float_var = 2.0\n",
    "int_var = 20\n",
    "\n",
    "# type cast\n",
    "float_var = str(float_var)\n",
    "\n",
    "# get subscript\n",
    "print(float_var[::2] + str(int_var))\n",
    "\n",
    "# type cast back to original state\n",
    "float_var = float(float_var)"
   ]
  },
  {
   "cell_type": "markdown",
   "id": "c22bcb77",
   "metadata": {},
   "source": [
    "#### 2. You are committing your dream crime of identity theft. Write a simple python line that asks for a user to input their social security number. Print it to the terminal to check your statement works.\n",
    "\n",
    "Please do not actually commit identity theft.\n",
    "\n",
    "\"Identity theft is not a joke Jim! Millions of families suffer every year!\""
   ]
  },
  {
   "cell_type": "code",
   "execution_count": 70,
   "id": "1ef076bd",
   "metadata": {
    "ExecuteTime": {
     "end_time": "2024-02-01T17:00:31.594364Z",
     "start_time": "2024-02-01T17:00:28.345181Z"
    }
   },
   "outputs": [
    {
     "name": "stdout",
     "output_type": "stream",
     "text": [
      "124184219083914\n"
     ]
    }
   ],
   "source": [
    "print(input(\"Enter your social security number (we promise its safe)\"))"
   ]
  },
  {
   "cell_type": "markdown",
   "id": "2f34c861",
   "metadata": {},
   "source": [
    "#### 3. Utilizing a one-way decision, write a simple function that evaluates whether or not the following variables:\n",
    "\n",
    " - starts with the character \"$\"\n",
    " - if so, the program should print \"US Dollars\"\n",
    " - you may need to utilize string indexing"
   ]
  },
  {
   "cell_type": "code",
   "execution_count": 71,
   "id": "f75ad8ae",
   "metadata": {
    "ExecuteTime": {
     "end_time": "2024-02-01T17:00:31.595131Z",
     "start_time": "2024-02-01T17:00:31.560847Z"
    }
   },
   "outputs": [],
   "source": [
    "#this is variable 1\n",
    "dollars = \"$45\""
   ]
  },
  {
   "cell_type": "code",
   "execution_count": 72,
   "id": "d517c17e",
   "metadata": {
    "ExecuteTime": {
     "end_time": "2024-02-01T17:00:31.597004Z",
     "start_time": "2024-02-01T17:00:31.577171Z"
    }
   },
   "outputs": [],
   "source": [
    "#this is variable 2\n",
    "pounds_sterling = \"£35.48\""
   ]
  },
  {
   "cell_type": "code",
   "outputs": [
    {
     "name": "stdout",
     "output_type": "stream",
     "text": [
      "$45 US Dollars\n",
      "£35.48\n"
     ]
    }
   ],
   "source": [
    "def is_USD(value: str) -> None:\n",
    "    if value[0] == \"$\":\n",
    "        print(f\"{value} US Dollars\")\n",
    "    else:\n",
    "        print(value)\n",
    "\n",
    "\n",
    "is_USD(dollars)\n",
    "is_USD(pounds_sterling)"
   ],
   "metadata": {
    "collapsed": false,
    "ExecuteTime": {
     "end_time": "2024-02-01T17:00:31.623919Z",
     "start_time": "2024-02-01T17:00:31.600004Z"
    }
   },
   "id": "4ca35174140afea9",
   "execution_count": 73
  },
  {
   "cell_type": "markdown",
   "id": "914f8785",
   "metadata": {},
   "source": [
    "#### 4. Multiply the following variables, and based on the result and using nested execution:\n",
    " - if the result is greater than 10\n",
    "    - divide by 10\n",
    "     - print result\n",
    "         - if the result of that is greater than 3\n",
    "             - add 20\n",
    "             - print result\n",
    "                 - if the result of that is greater than or equal to 32\n",
    "                     - subtract 5\n",
    "                     - print result\n",
    "                         - if the result of that divided by 1 is itself\n",
    "                             - print 1\n",
    "                             \n",
    "**Please be sure to write all statements even if not all will be met.**"
   ]
  },
  {
   "cell_type": "code",
   "execution_count": 74,
   "id": "1ad0aacc",
   "metadata": {
    "ExecuteTime": {
     "end_time": "2024-02-01T17:00:31.624392Z",
     "start_time": "2024-02-01T17:00:31.603739Z"
    }
   },
   "outputs": [],
   "source": [
    "var_1 = 6\n",
    "var_2 = 7"
   ]
  },
  {
   "cell_type": "code",
   "outputs": [],
   "source": [
    "res = var_1 * var_2"
   ],
   "metadata": {
    "collapsed": false,
    "ExecuteTime": {
     "end_time": "2024-02-01T17:00:31.645134Z",
     "start_time": "2024-02-01T17:00:31.626336Z"
    }
   },
   "id": "f00ec05d31b66d02",
   "execution_count": 75
  },
  {
   "cell_type": "code",
   "outputs": [
    {
     "name": "stdout",
     "output_type": "stream",
     "text": [
      "4.2\n",
      "24.2\n"
     ]
    }
   ],
   "source": [
    "if res > 10:\n",
    "    res /= 10\n",
    "    print(res)\n",
    "    if res > 3:\n",
    "        res += 20\n",
    "        print(res)\n",
    "        if res >= 32:\n",
    "            res -= 5\n",
    "            print(res)\n",
    "            if res / 1 == res:\n",
    "                print(1)"
   ],
   "metadata": {
    "collapsed": false,
    "ExecuteTime": {
     "end_time": "2024-02-01T17:00:31.645877Z",
     "start_time": "2024-02-01T17:00:31.629326Z"
    }
   },
   "id": "b7323b053965a486",
   "execution_count": 76
  },
  {
   "cell_type": "markdown",
   "id": "4753d644",
   "metadata": {},
   "source": [
    "#### 5. Utilize a two way decision to let the user know if it is above or below freezing based on the temperature_celsius variable.\n",
    " - if the temperature is above 0, it is not freezing\n",
    "    - print \"It is not freezing outside\"\n",
    " - if the temperature is at or below 0, it is freezing\n",
    "    - print \"It is freezing outside\""
   ]
  },
  {
   "cell_type": "code",
   "execution_count": 77,
   "id": "29815918",
   "metadata": {
    "ExecuteTime": {
     "end_time": "2024-02-01T17:00:31.660032Z",
     "start_time": "2024-02-01T17:00:31.647690Z"
    }
   },
   "outputs": [],
   "source": [
    "#temperature 1\n",
    "temperature_1 = 100"
   ]
  },
  {
   "cell_type": "code",
   "execution_count": 78,
   "id": "244321a2",
   "metadata": {
    "ExecuteTime": {
     "end_time": "2024-02-01T17:00:31.681445Z",
     "start_time": "2024-02-01T17:00:31.649948Z"
    }
   },
   "outputs": [],
   "source": [
    "#temperature 2\n",
    "temperature_2 = 0"
   ]
  },
  {
   "cell_type": "code",
   "outputs": [
    {
     "name": "stdout",
     "output_type": "stream",
     "text": [
      "It is not freezing outside.\n",
      "It is freezing outside\n"
     ]
    }
   ],
   "source": [
    "def is_freezing(value: float) -> None:\n",
    "    if value > 0:\n",
    "        print(\"It is not freezing outside.\")\n",
    "    else:\n",
    "        print(\"It is freezing outside\")\n",
    "\n",
    "\n",
    "is_freezing(temperature_1)\n",
    "is_freezing(temperature_2)"
   ],
   "metadata": {
    "collapsed": false,
    "ExecuteTime": {
     "end_time": "2024-02-01T17:00:31.682108Z",
     "start_time": "2024-02-01T17:00:31.653275Z"
    }
   },
   "id": "747bb508437b1732",
   "execution_count": 79
  },
  {
   "cell_type": "markdown",
   "id": "8e8c2e78",
   "metadata": {},
   "source": [
    "#### 6. Modify our temperature function to add third decision before the others:\n",
    " - if the temperature is at or above 100\n",
    "    - print \"Water is boiling outside, and it is definitely not freezing\""
   ]
  },
  {
   "cell_type": "code",
   "execution_count": 80,
   "id": "3c2c989f",
   "metadata": {
    "ExecuteTime": {
     "end_time": "2024-02-01T17:00:31.683818Z",
     "start_time": "2024-02-01T17:00:31.663529Z"
    }
   },
   "outputs": [],
   "source": [
    "#temperature 3\n",
    "temperature_3 = 100"
   ]
  },
  {
   "cell_type": "code",
   "outputs": [
    {
     "name": "stdout",
     "output_type": "stream",
     "text": [
      "Water is boiling outside, and it is definitely not freezing\n"
     ]
    }
   ],
   "source": [
    "def is_boiling(value: float) -> None:\n",
    "    if value < 0:\n",
    "        print(\"It is freezing outside\")\n",
    "\n",
    "    elif value >= 100:\n",
    "        print(\"Water is boiling outside, and it is definitely not freezing\")\n",
    "\n",
    "    else:\n",
    "        print(\"It is not freezing outside.\")\n",
    "\n",
    "\n",
    "is_boiling(temperature_3)\n"
   ],
   "metadata": {
    "collapsed": false,
    "ExecuteTime": {
     "end_time": "2024-02-01T17:00:31.707143Z",
     "start_time": "2024-02-01T17:00:31.686519Z"
    }
   },
   "id": "52f77cb05f77aaa",
   "execution_count": 81
  },
  {
   "cell_type": "markdown",
   "id": "9a398be8",
   "metadata": {},
   "source": [
    "#### 7. Revisiting our example from the notes, figure out a way to correctly have the computer evaluate the following:"
   ]
  },
  {
   "cell_type": "code",
   "execution_count": 82,
   "id": "047122ca",
   "metadata": {
    "ExecuteTime": {
     "end_time": "2024-02-01T17:00:31.707904Z",
     "start_time": "2024-02-01T17:00:31.689749Z"
    }
   },
   "outputs": [
    {
     "data": {
      "text/plain": "False"
     },
     "execution_count": 82,
     "metadata": {},
     "output_type": "execute_result"
    }
   ],
   "source": [
    "#do not edit this\n",
    "x = 0.8\n",
    "y = 0.6\n",
    "z = 0.4\n",
    "x - y == y - z"
   ]
  },
  {
   "cell_type": "code",
   "outputs": [
    {
     "data": {
      "text/plain": "True"
     },
     "execution_count": 83,
     "metadata": {},
     "output_type": "execute_result"
    }
   ],
   "source": [
    "x = 0.8\n",
    "y = 0.6\n",
    "z = 0.4\n",
    "round(x - y) == round(y - z)"
   ],
   "metadata": {
    "collapsed": false,
    "ExecuteTime": {
     "end_time": "2024-02-01T17:00:31.734116Z",
     "start_time": "2024-02-01T17:00:31.709744Z"
    }
   },
   "id": "df400fd1441d38b8",
   "execution_count": 83
  },
  {
   "cell_type": "markdown",
   "id": "d929d29a",
   "metadata": {},
   "source": [
    "#### 8. Setting a variable to a reserve word results in a SyntaxError, as demonstrated here. In the cell after, use a try and except statement so that if a SyntaxError is encountered, you print more information about why."
   ]
  },
  {
   "cell_type": "code",
   "execution_count": 84,
   "id": "424c27c1",
   "metadata": {
    "scrolled": true,
    "tags": [
     "raises-exception"
    ],
    "ExecuteTime": {
     "end_time": "2024-02-01T17:00:31.734846Z",
     "start_time": "2024-02-01T17:00:31.712236Z"
    }
   },
   "outputs": [
    {
     "ename": "SyntaxError",
     "evalue": "invalid syntax (3976996383.py, line 2)",
     "output_type": "error",
     "traceback": [
      "\u001B[0;36m  Cell \u001B[0;32mIn[84], line 2\u001B[0;36m\u001B[0m\n\u001B[0;31m    class = \"INFO B 210\"\u001B[0m\n\u001B[0m          ^\u001B[0m\n\u001B[0;31mSyntaxError\u001B[0m\u001B[0;31m:\u001B[0m invalid syntax\n"
     ]
    }
   ],
   "source": [
    "#do not edit this\n",
    "class = \"INFO B 210\""
   ]
  },
  {
   "cell_type": "code",
   "execution_count": 85,
   "id": "c04d0606",
   "metadata": {
    "ExecuteTime": {
     "end_time": "2024-02-01T17:00:31.760091Z",
     "start_time": "2024-02-01T17:00:31.736012Z"
    }
   },
   "outputs": [
    {
     "ename": "SyntaxError",
     "evalue": "invalid syntax (365993558.py, line 3)",
     "output_type": "error",
     "traceback": [
      "\u001B[0;36m  Cell \u001B[0;32mIn[85], line 3\u001B[0;36m\u001B[0m\n\u001B[0;31m    class = \"INFO B 210\"\u001B[0m\n\u001B[0m          ^\u001B[0m\n\u001B[0;31mSyntaxError\u001B[0m\u001B[0;31m:\u001B[0m invalid syntax\n"
     ]
    }
   ],
   "source": [
    "#write your code here\n",
    "try:\n",
    "    class = \"INFO B 210\"\n",
    "except SyntaxError:\n",
    "    print(\"Class is a reserve word and cannot be set as a variable name\")"
   ]
  },
  {
   "cell_type": "markdown",
   "id": "c9c5dc79",
   "metadata": {},
   "source": [
    "#### 9. Combining most of the information we learned this week, write a function that does the following.\n",
    "\n",
    " - An input statement that requests the user for their name followed by their favorite four-digit number\n",
    " - from this, extract the last four characters to the variable named last_four\n",
    "     - the variable should have type \"string\"\n",
    " - multiply the variable by 1.5\n",
    "     - use typecasting\n",
    " - if the result is less than 5000\n",
    "   - print small\n",
    " - else if less than 10000\n",
    "   - print medium\n",
    " - else\n",
    "  - print large\n",
    "\n",
    "- gracefully handle errors using try-except functionality"
   ]
  },
  {
   "cell_type": "code",
   "execution_count": 86,
   "id": "249dd5b4",
   "metadata": {
    "ExecuteTime": {
     "end_time": "2024-02-01T17:00:31.776243Z",
     "start_time": "2024-02-01T17:00:31.759920Z"
    }
   },
   "outputs": [],
   "source": [
    "#test your code using user input: 230\n",
    "#test your code using user input: John3333\n",
    "#test your code using user input: Johnson"
   ]
  },
  {
   "cell_type": "code",
   "outputs": [],
   "source": [
    "def solution() -> None:\n",
    "        try:\n",
    "            # get input\n",
    "            user_input = input(\"Enter your name followed by your favorite four digit number: \")\n",
    "            \n",
    "            # no input detected\n",
    "            if not user_input:\n",
    "                raise Exception(f\"Invalid input: \\'{user_input}\\' => Input length greater than 0 expected.\")\n",
    "            \n",
    "            name, last_four = user_input[:-4], user_input[-4:]\n",
    "            \n",
    "            # not correct length\n",
    "            if len(last_four) != 4:\n",
    "                raise Exception(f\"Invalid four digit number: \\'{last_four}\\' => Length of 4 expected.\")\n",
    "            \n",
    "            # not numeric\n",
    "            if not last_four.isnumeric():\n",
    "                raise Exception(f\"Invalid four digit number: \\'{last_four}\\' => Numeric integer expected.\")\n",
    "                \n",
    "        except Exception as error:  \n",
    "            if Exception:\n",
    "                print(error)\n",
    "            else:\n",
    "                print(\"An error occurred\")\n",
    "                \n",
    "        else:\n",
    "            res = int(last_four) * 1.5\n",
    "            \n",
    "            # output clause\n",
    "            if res < 5000:\n",
    "                print(f\"{name}'s favorite number: \\'{last_four}\\' is small\")\n",
    "            elif res < 10000:\n",
    "                print(f\"{name}'s favorite number: \\'{last_four}\\' is medium\")\n",
    "            else:\n",
    "                print(f\"{name}'s favorite number: \\'{last_four}\\' is large\")\n",
    "                \n",
    "                \n",
    "solution()"
   ],
   "metadata": {
    "collapsed": false
   },
   "id": "3a785cf6e5546167",
   "execution_count": null
  },
  {
   "cell_type": "code",
   "outputs": [],
   "source": [],
   "metadata": {
    "collapsed": false
   },
   "id": "45dd86704bdec875"
  }
 ],
 "metadata": {
  "kernelspec": {
   "display_name": "Python 3 (ipykernel)",
   "language": "python",
   "name": "python3"
  },
  "language_info": {
   "codemirror_mode": {
    "name": "ipython",
    "version": 3
   },
   "file_extension": ".py",
   "mimetype": "text/x-python",
   "name": "python",
   "nbconvert_exporter": "python",
   "pygments_lexer": "ipython3",
   "version": "3.9.18"
  }
 },
 "nbformat": 4,
 "nbformat_minor": 5
}
