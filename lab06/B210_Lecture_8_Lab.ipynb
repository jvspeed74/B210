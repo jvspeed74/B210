{
 "cells": [
  {
   "cell_type": "markdown",
   "id": "f49d7fe2",
   "metadata": {},
   "source": [
    "#### For each lesson, there will be a corresponding lab to complete during the Thursday portion of class. To complete the lab, simply follow the cells step-by-step, adding your code where appropriate. Be sure to run your code to ensure correctness and completeness without errors. \n",
    "\n",
    "# Lecture 8 Lab\n",
    "In this lab, we'll be reviewing a number of built in  functions.\n",
    "\n",
    "## Prompt\n",
    "Use your knowledge of Python to address each of the following prompts."
   ]
  },
  {
   "cell_type": "markdown",
   "id": "2f34c861",
   "metadata": {},
   "source": [
    "#### 1a. Create a list containing the following elements,and name it my_list: -20, 3, 2, 7, 4, 5, 1, -3, 0, -2\n",
    "#### 1b. Calculate the sum of the list by using one of the built in python functions"
   ]
  },
  {
   "cell_type": "code",
   "execution_count": 1,
   "id": "93d6d8bc",
   "metadata": {
    "ExecuteTime": {
     "end_time": "2024-02-22T15:22:19.001378Z",
     "start_time": "2024-02-22T15:22:18.988654Z"
    }
   },
   "outputs": [],
   "source": [
    "#1a\n",
    "my_list = [-20, 3, 2, 7, 4, 5, 1, -3, 0, -2]"
   ]
  },
  {
   "cell_type": "code",
   "execution_count": 4,
   "id": "8bf6909b",
   "metadata": {
    "ExecuteTime": {
     "end_time": "2024-02-22T15:23:15.683700Z",
     "start_time": "2024-02-22T15:23:15.677040Z"
    }
   },
   "outputs": [
    {
     "data": {
      "text/plain": "-3"
     },
     "execution_count": 4,
     "metadata": {},
     "output_type": "execute_result"
    }
   ],
   "source": [
    "#1b\n",
    "sum(my_list)"
   ]
  },
  {
   "cell_type": "markdown",
   "id": "83e1e1bd",
   "metadata": {},
   "source": [
    "#### 2. Divide the sum of *my_list* by 2, using divmod()."
   ]
  },
  {
   "cell_type": "code",
   "execution_count": 5,
   "id": "182318b8",
   "metadata": {
    "ExecuteTime": {
     "end_time": "2024-02-22T15:23:35.240752Z",
     "start_time": "2024-02-22T15:23:35.222474Z"
    }
   },
   "outputs": [
    {
     "data": {
      "text/plain": "(-2, 1)"
     },
     "execution_count": 5,
     "metadata": {},
     "output_type": "execute_result"
    }
   ],
   "source": [
    "divmod(sum(my_list), 2)"
   ]
  },
  {
   "cell_type": "markdown",
   "id": "532d9178",
   "metadata": {},
   "source": [
    "#### 3. Divide the sum of *my_list* by the length of the list to find the average. Round the result to one place after the decimal."
   ]
  },
  {
   "cell_type": "code",
   "execution_count": 6,
   "id": "db03d112",
   "metadata": {
    "ExecuteTime": {
     "end_time": "2024-02-22T15:26:24.847794Z",
     "start_time": "2024-02-22T15:26:24.829868Z"
    }
   },
   "outputs": [
    {
     "data": {
      "text/plain": "-0.3"
     },
     "execution_count": 6,
     "metadata": {},
     "output_type": "execute_result"
    }
   ],
   "source": [
    "result = sum(my_list) / len(my_list)\n",
    "round(result, 1)"
   ]
  },
  {
   "cell_type": "markdown",
   "id": "4aba5fa0",
   "metadata": {},
   "source": [
    "#### 4. Take the absolute value of the sum of *my_list* and use pow() to raise it to the third power."
   ]
  },
  {
   "cell_type": "code",
   "execution_count": 7,
   "id": "767cd848",
   "metadata": {
    "ExecuteTime": {
     "end_time": "2024-02-22T15:27:36.400817Z",
     "start_time": "2024-02-22T15:27:36.385125Z"
    }
   },
   "outputs": [
    {
     "data": {
      "text/plain": "27"
     },
     "execution_count": 7,
     "metadata": {},
     "output_type": "execute_result"
    }
   ],
   "source": [
    "pow(abs(sum(my_list)), 3)"
   ]
  },
  {
   "cell_type": "markdown",
   "id": "65343c3e",
   "metadata": {},
   "source": [
    "#### 5. Sort *my_list*."
   ]
  },
  {
   "cell_type": "code",
   "execution_count": 10,
   "id": "258356a0",
   "metadata": {
    "ExecuteTime": {
     "end_time": "2024-02-22T15:28:29.066601Z",
     "start_time": "2024-02-22T15:28:29.062874Z"
    }
   },
   "outputs": [
    {
     "data": {
      "text/plain": "[-20, -3, -2, 0, 1, 2, 3, 4, 5, 7]"
     },
     "execution_count": 10,
     "metadata": {},
     "output_type": "execute_result"
    }
   ],
   "source": [
    "sorted(my_list)"
   ]
  },
  {
   "cell_type": "markdown",
   "id": "3e9737f3",
   "metadata": {},
   "source": [
    "#### 6. Sort *my_list* in the reverse order."
   ]
  },
  {
   "cell_type": "code",
   "execution_count": 11,
   "id": "6271de07",
   "metadata": {
    "ExecuteTime": {
     "end_time": "2024-02-22T15:28:29.948111Z",
     "start_time": "2024-02-22T15:28:29.941731Z"
    }
   },
   "outputs": [
    {
     "data": {
      "text/plain": "[7, 5, 4, 3, 2, 1, 0, -2, -3, -20]"
     },
     "execution_count": 11,
     "metadata": {},
     "output_type": "execute_result"
    }
   ],
   "source": [
    "sorted(my_list, reverse=True)"
   ]
  },
  {
   "cell_type": "markdown",
   "id": "9c22c200",
   "metadata": {},
   "source": [
    "#### 7. Find the maximum of *my_list*."
   ]
  },
  {
   "cell_type": "code",
   "execution_count": 13,
   "id": "36ab9587",
   "metadata": {
    "ExecuteTime": {
     "end_time": "2024-02-22T15:28:41.579341Z",
     "start_time": "2024-02-22T15:28:41.569564Z"
    }
   },
   "outputs": [
    {
     "data": {
      "text/plain": "7"
     },
     "execution_count": 13,
     "metadata": {},
     "output_type": "execute_result"
    }
   ],
   "source": [
    "max(my_list)"
   ]
  },
  {
   "cell_type": "markdown",
   "id": "ac16515b",
   "metadata": {},
   "source": [
    "#### 8. Find the minimum of *my_list*."
   ]
  },
  {
   "cell_type": "code",
   "execution_count": 14,
   "id": "0d1265ff",
   "metadata": {
    "ExecuteTime": {
     "end_time": "2024-02-22T15:29:42.697228Z",
     "start_time": "2024-02-22T15:29:42.689576Z"
    }
   },
   "outputs": [
    {
     "data": {
      "text/plain": "-20"
     },
     "execution_count": 14,
     "metadata": {},
     "output_type": "execute_result"
    }
   ],
   "source": [
    "min(my_list)"
   ]
  },
  {
   "cell_type": "markdown",
   "id": "b76d1957",
   "metadata": {},
   "source": [
    "#### 9. What are the expected output of min() and max() if run on the list [\"Albus\", \"Percival\", \"Wulfric\", \"Brian\", \"Dumbledore\"]?"
   ]
  },
  {
   "cell_type": "markdown",
   "id": "38461b12",
   "metadata": {},
   "source": [
    "The expected output of min() is Albus. The expected output of max() is Wulfric. Python values the capital letters in the same order that they are read in the alphabet. When getting the minimum value, Python returns \"Albus\" because \"A\" is the lowest valued character to appear. The same goes for \"Wulfric\" as \"W\" is the highest valued character to appear in the list. If there are two words that start with \"A\" then Python evaluates and compares the next character in both items."
   ]
  },
  {
   "cell_type": "markdown",
   "id": "330610dd",
   "metadata": {},
   "source": [
    "#### 10. Using a for loop and the appropriate function, print each of the values in the list [1, 2, 3, 4, 5, 6, 7, 8, 9, 10] in octal."
   ]
  },
  {
   "cell_type": "code",
   "execution_count": 18,
   "id": "7f2b436d",
   "metadata": {
    "ExecuteTime": {
     "end_time": "2024-02-22T15:40:13.109218Z",
     "start_time": "2024-02-22T15:40:13.103172Z"
    }
   },
   "outputs": [
    {
     "name": "stdout",
     "output_type": "stream",
     "text": [
      "0o1\n",
      "0o2\n",
      "0o3\n",
      "0o4\n",
      "0o5\n",
      "0o6\n",
      "0o7\n",
      "0o10\n",
      "0o11\n",
      "0o12\n"
     ]
    }
   ],
   "source": [
    "for n in [1, 2, 3, 4, 5, 6, 7, 8, 9, 10]:\n",
    "    print(oct(n))"
   ]
  },
  {
   "cell_type": "markdown",
   "id": "b4f267ab",
   "metadata": {},
   "source": [
    "#### 11. Do the same, with binary."
   ]
  },
  {
   "cell_type": "code",
   "execution_count": 19,
   "id": "d118e3da",
   "metadata": {
    "ExecuteTime": {
     "end_time": "2024-02-22T15:40:46.590549Z",
     "start_time": "2024-02-22T15:40:46.567930Z"
    }
   },
   "outputs": [
    {
     "name": "stdout",
     "output_type": "stream",
     "text": [
      "0b1\n",
      "0b10\n",
      "0b11\n",
      "0b100\n",
      "0b101\n",
      "0b110\n",
      "0b111\n",
      "0b1000\n",
      "0b1001\n",
      "0b1010\n"
     ]
    }
   ],
   "source": [
    "for n in [1, 2, 3, 4, 5, 6, 7, 8, 9, 10]:\n",
    "    print(bin(n))"
   ]
  },
  {
   "cell_type": "markdown",
   "id": "c17b6f35",
   "metadata": {},
   "source": [
    "#### 12. Do the same, with hexidecimal."
   ]
  },
  {
   "cell_type": "code",
   "execution_count": 20,
   "id": "ce04cb79",
   "metadata": {
    "ExecuteTime": {
     "end_time": "2024-02-22T15:40:58.173310Z",
     "start_time": "2024-02-22T15:40:58.158531Z"
    }
   },
   "outputs": [
    {
     "name": "stdout",
     "output_type": "stream",
     "text": [
      "0x1\n",
      "0x2\n",
      "0x3\n",
      "0x4\n",
      "0x5\n",
      "0x6\n",
      "0x7\n",
      "0x8\n",
      "0x9\n",
      "0xa\n"
     ]
    }
   ],
   "source": [
    "for n in [1, 2, 3, 4, 5, 6, 7, 8, 9, 10]:\n",
    "    print(hex(n))"
   ]
  },
  {
   "cell_type": "markdown",
   "id": "4f946b0e",
   "metadata": {},
   "source": [
    "#### 13. Using a for loop, print the Unicode Character represented by each value in the following list: [100, 112, 111, 104, 125, 97, 117, 116]"
   ]
  },
  {
   "cell_type": "code",
   "execution_count": 21,
   "id": "ab0f5cdc",
   "metadata": {
    "ExecuteTime": {
     "end_time": "2024-02-22T15:41:48.615940Z",
     "start_time": "2024-02-22T15:41:48.598310Z"
    }
   },
   "outputs": [
    {
     "name": "stdout",
     "output_type": "stream",
     "text": [
      "d\n",
      "p\n",
      "o\n",
      "h\n",
      "}\n",
      "a\n",
      "u\n",
      "t\n"
     ]
    }
   ],
   "source": [
    "for n in [100, 112, 111, 104, 125, 97, 117, 116]:\n",
    "    print(chr(n))"
   ]
  },
  {
   "cell_type": "markdown",
   "id": "a551edb4",
   "metadata": {},
   "source": [
    "#### 14. Rewrite the following code using an any() or all() function:\n",
    "\n"
   ]
  },
  {
   "cell_type": "code",
   "execution_count": null,
   "id": "5684ae01",
   "metadata": {},
   "outputs": [],
   "source": [
    "#do not edit this\n",
    "if type(\"trees\") == str or 1 > 7:\n",
    "    print(\"True\")\n",
    "else:\n",
    "    print(\"False\")"
   ]
  },
  {
   "cell_type": "code",
   "outputs": [
    {
     "data": {
      "text/plain": "True"
     },
     "execution_count": 29,
     "metadata": {},
     "output_type": "execute_result"
    }
   ],
   "source": [
    "any([type(\"trees\") == str, 1 > 7])"
   ],
   "metadata": {
    "collapsed": false,
    "ExecuteTime": {
     "end_time": "2024-02-22T16:26:58.911959Z",
     "start_time": "2024-02-22T16:26:58.875331Z"
    }
   },
   "id": "fa9cb59c62d05aae",
   "execution_count": 29
  },
  {
   "cell_type": "markdown",
   "id": "e349c583",
   "metadata": {},
   "source": [
    "#### 15. Rewrite the following code using an any() or all() function:"
   ]
  },
  {
   "cell_type": "code",
   "execution_count": null,
   "id": "00088a47",
   "metadata": {},
   "outputs": [],
   "source": [
    "#do not edit this\n",
    "if type(\"trees\") == str and 1 > 7:\n",
    "    print(\"True\")\n",
    "else:\n",
    "    print(\"False\")"
   ]
  },
  {
   "cell_type": "code",
   "outputs": [
    {
     "data": {
      "text/plain": "False"
     },
     "execution_count": 23,
     "metadata": {},
     "output_type": "execute_result"
    }
   ],
   "source": [
    "all([type(\"trees\") == str, 1 > 7])"
   ],
   "metadata": {
    "collapsed": false,
    "ExecuteTime": {
     "end_time": "2024-02-22T15:46:22.567950Z",
     "start_time": "2024-02-22T15:46:22.550716Z"
    }
   },
   "id": "feb75dbfdbf24c73",
   "execution_count": 23
  },
  {
   "cell_type": "markdown",
   "id": "a9463206",
   "metadata": {},
   "source": [
    "#### 16a. Create a list of the following values, and name it *strings*: \"('I')\", \"('Love')\", \"('Class')\"\n",
    "\n",
    "#### 16b. Using next(), move through the list, each time concatenating the string \"print\" and the output of next(), assigning it to the variable *full_string*. Also, set the default value of next() to \"('nothing')\". Use the eval() function on *full_string* of the to print the Python output each time.\n",
    "\n",
    "        "
   ]
  },
  {
   "cell_type": "code",
   "execution_count": 31,
   "id": "e216e418",
   "metadata": {
    "ExecuteTime": {
     "end_time": "2024-02-22T16:59:17.106445Z",
     "start_time": "2024-02-22T16:59:17.096202Z"
    }
   },
   "outputs": [
    {
     "name": "stdout",
     "output_type": "stream",
     "text": [
      "I Love Class \n"
     ]
    }
   ],
   "source": [
    "strings = [\"('I')\", \"('Love')\", \"('Class')\"]\n",
    "iter_strings = iter(strings)\n",
    "full_string = \"print(\"\n",
    "\n",
    "for y in range(3):\n",
    "    full_string = full_string + next(iter_strings, \"('nothing')\") + \"+\" + \"' '\" + \"+\"\n",
    "else:\n",
    "    full_string = full_string + \"'')\"\n",
    "    eval(full_string)"
   ]
  },
  {
   "cell_type": "code",
   "outputs": [],
   "source": [],
   "metadata": {
    "collapsed": false
   },
   "id": "832c0b1ae6cbfaaf"
  }
 ],
 "metadata": {
  "kernelspec": {
   "display_name": "Python 3 (ipykernel)",
   "language": "python",
   "name": "python3"
  },
  "language_info": {
   "codemirror_mode": {
    "name": "ipython",
    "version": 3
   },
   "file_extension": ".py",
   "mimetype": "text/x-python",
   "name": "python",
   "nbconvert_exporter": "python",
   "pygments_lexer": "ipython3",
   "version": "3.9.17"
  }
 },
 "nbformat": 4,
 "nbformat_minor": 5
}
