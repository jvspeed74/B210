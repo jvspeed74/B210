{
 "cells": [
  {
   "cell_type": "markdown",
   "id": "f49d7fe2",
   "metadata": {},
   "source": [
    "#### For each lesson, there will be a corresponding lab to complete during the Thursday portion of class. To complete the lab, simply follow the cells step-by-step, adding your code where appropriate. Be sure to run your code to ensure correctness and completeness without errors. \n",
    "\n",
    "# Lecture 9 Lab\n",
    "In this lab, we'll be working with user-defined functions.\n",
    "\n",
    "## Prompt\n",
    "Use your knowledge of Python variables and functions to address each of the following prompts."
   ]
  },
  {
   "cell_type": "markdown",
   "id": "8e7dc46a",
   "metadata": {},
   "source": [
    "#### 1. Define a function, named *maximum_math_facts*, that takes two arguments -- num_1 and num_2. Make sure your function definition has appropriate \"\"\" \"\"\" information as noted in the slides.\n",
    "\n",
    "The function should create a list of the following:\n",
    "\n",
    " - num_1 + num_2\n",
    " - num_1 - num_2\n",
    " - num_1 * num_2\n",
    " - num_1 / num_2\n",
    " - num_1 ** num_2\n",
    "\n",
    "Then, **return** the maximum value in the list -- recall functions from two weeks ago"
   ]
  },
  {
   "cell_type": "code",
   "execution_count": 2,
   "id": "cfa33b85",
   "metadata": {
    "ExecuteTime": {
     "end_time": "2024-03-07T15:27:39.778092Z",
     "start_time": "2024-03-07T15:27:39.765514Z"
    }
   },
   "outputs": [],
   "source": [
    "#define the function here\n",
    "def maximum_math_facts(num_1: float, num_2: float) -> float:\n",
    "    \"\"\"\n",
    "    This function performs basic mathematical operations between two numbers and outputs the highest value obtained after comparing the results.\n",
    "    :param num_1: First number \n",
    "    :param num_2: Second number\n",
    "    :return: Highest value\n",
    "    \"\"\"\n",
    "    output = [num_1 + num_2,\n",
    "              num_1 - num_2,\n",
    "              num_1 * num_2,\n",
    "              num_1 / num_2,\n",
    "              num_1 ** num_2]\n",
    "    \n",
    "    return max(output)\n"
   ]
  },
  {
   "cell_type": "markdown",
   "id": "d17edffe",
   "metadata": {},
   "source": [
    "#### 2. The following are test cases that will be used on your function. \n",
    "**NO WORK SHOULD BE DONE ON THE FOLLOWING 2 BOXES, BUT RUN THEM TO CHECK ACCURACY**"
   ]
  },
  {
   "cell_type": "code",
   "execution_count": 3,
   "id": "566be7d9",
   "metadata": {
    "ExecuteTime": {
     "end_time": "2024-03-07T15:27:45.383912Z",
     "start_time": "2024-03-07T15:27:45.375992Z"
    }
   },
   "outputs": [
    {
     "name": "stdout",
     "output_type": "stream",
     "text": [
      "15\n"
     ]
    }
   ],
   "source": [
    "#test case 1\n",
    "print(maximum_math_facts(10, -5))"
   ]
  },
  {
   "cell_type": "code",
   "execution_count": 4,
   "id": "097ecf39",
   "metadata": {
    "ExecuteTime": {
     "end_time": "2024-03-07T15:27:48.369662Z",
     "start_time": "2024-03-07T15:27:48.357046Z"
    }
   },
   "outputs": [
    {
     "name": "stdout",
     "output_type": "stream",
     "text": [
      "100000\n"
     ]
    }
   ],
   "source": [
    "#test case 2\n",
    "print(maximum_math_facts(10, 5))"
   ]
  },
  {
   "cell_type": "markdown",
   "id": "2f34c861",
   "metadata": {},
   "source": [
    "#### 3. Now, lets modify our function *maximum_math_facts* to allow the user to dictate whether the function returns the maximum OR the minimum.\n",
    "        \n",
    "To do so:\n",
    "\n",
    "1) Take your original maximum_math_facts definition and copy it below.\n",
    "2) modify the definition statement add an optional argument, named return_type, with a default value of \"max\" (as a string)\n",
    "    - your updated statement should have num_1, num_2, and your optional argument return_type\n",
    "3) modify the part of your function that returns the maximum so that:\n",
    "    - if return_type == \"max\" return the maximum\n",
    "    - else if return_type == \"min\" return the minimum\n",
    "4) update your \"\"\" \"\"\" documentation\n"
   ]
  },
  {
   "cell_type": "code",
   "execution_count": 5,
   "id": "f75ad8ae",
   "metadata": {
    "ExecuteTime": {
     "end_time": "2024-03-07T15:32:29.419079Z",
     "start_time": "2024-03-07T15:32:29.411349Z"
    }
   },
   "outputs": [],
   "source": [
    "#define your updated function here\n",
    "def maximum_math_facts(num_1: float, num_2: float, return_type: str = 'max') -> float:\n",
    "    \"\"\"\n",
    "    This function performs basic mathematical operations between two numbers and outputs the highest or lowest value obtained after comparing the results.\n",
    "    :param num_1: First number \n",
    "    :param num_2: Second number\n",
    "    :param return_type: Optional param to return the highest or lowest value \n",
    "    :return: Highest or Lowest value\n",
    "    \"\"\"\n",
    "    output = [num_1 + num_2,\n",
    "              num_1 - num_2,\n",
    "              num_1 * num_2,\n",
    "              num_1 / num_2,\n",
    "              num_1 ** num_2]\n",
    "    \n",
    "    if return_type == 'max':\n",
    "        return max(output)\n",
    "    elif return_type == 'min':\n",
    "        return min(output)\n",
    "\n"
   ]
  },
  {
   "cell_type": "markdown",
   "id": "50b419c0",
   "metadata": {},
   "source": [
    "#### 4. The following are test cases that will be used on your function. \n",
    "**NO WORK SHOULD BE DONE IN THE FOLLOWING 3 BOXES, BUT RUN THEM TO CHECK ACCURACY**"
   ]
  },
  {
   "cell_type": "code",
   "execution_count": 6,
   "id": "ec236a78",
   "metadata": {
    "ExecuteTime": {
     "end_time": "2024-03-07T15:32:35.406296Z",
     "start_time": "2024-03-07T15:32:35.399113Z"
    }
   },
   "outputs": [
    {
     "name": "stdout",
     "output_type": "stream",
     "text": [
      "-50\n"
     ]
    }
   ],
   "source": [
    "#test case 1\n",
    "print(maximum_math_facts(10, -5, return_type=\"min\"))"
   ]
  },
  {
   "cell_type": "code",
   "execution_count": 7,
   "id": "ca121695",
   "metadata": {
    "ExecuteTime": {
     "end_time": "2024-03-07T15:32:36.060448Z",
     "start_time": "2024-03-07T15:32:36.051932Z"
    }
   },
   "outputs": [
    {
     "name": "stdout",
     "output_type": "stream",
     "text": [
      "15\n"
     ]
    }
   ],
   "source": [
    "#test case 2\n",
    "print(maximum_math_facts(10, -5))"
   ]
  },
  {
   "cell_type": "code",
   "execution_count": 8,
   "id": "3b189e35",
   "metadata": {
    "ExecuteTime": {
     "end_time": "2024-03-07T15:32:36.979204Z",
     "start_time": "2024-03-07T15:32:36.967129Z"
    }
   },
   "outputs": [
    {
     "name": "stdout",
     "output_type": "stream",
     "text": [
      "None\n"
     ]
    }
   ],
   "source": [
    "#test 3\n",
    "print(maximum_math_facts(10, -5, return_type=\"other\"))"
   ]
  },
  {
   "cell_type": "markdown",
   "id": "2b4a847f",
   "metadata": {},
   "source": [
    "#### 5. Notice how, if your function is set up correctly, the last test case shouldn't return anything. This is because we have the optional argument set to handle user input of \"max\" or \"min\", but no else statement.\n",
    "\n",
    "Let's add functionality to raise an error if the user inputs an argument other than one of these.\n",
    "        \n",
    "To do so:\n",
    "\n",
    "1) Take your maximum_math_facts definition and copy it below.\n",
    "2) add an else statement to your if-elif statement that deals with return_tyoe\n",
    "    - else: raise a ValueError with text \"Incorrect input for return_type. Please use min or max (default).\"\n",
    "3) Make sure to update your \"\"\" \"\"\" documentation accordingly.\n"
   ]
  },
  {
   "cell_type": "code",
   "execution_count": 10,
   "id": "3c2c989f",
   "metadata": {
    "ExecuteTime": {
     "end_time": "2024-03-07T15:35:16.517377Z",
     "start_time": "2024-03-07T15:35:16.509809Z"
    }
   },
   "outputs": [],
   "source": [
    "#define your updated function here\n",
    "def maximum_math_facts(num_1: float, num_2: float, return_type: str = 'max') -> float:\n",
    "    \"\"\"\n",
    "    This function performs basic mathematical operations between two numbers and outputs the highest or lowest value obtained after comparing the results.\n",
    "    :param num_1: First number \n",
    "    :param num_2: Second number\n",
    "    :param return_type: Optional param to return the highest or lowest value \n",
    "    :return: Highest value\n",
    "    :raises ValueError: If return_type is not 'max' or 'min'\n",
    "    \"\"\"\n",
    "    output: list[float] = [num_1 + num_2,\n",
    "              num_1 - num_2,\n",
    "              num_1 * num_2,\n",
    "              num_1 / num_2,\n",
    "              num_1 ** num_2]\n",
    "    \n",
    "    if return_type == 'max':\n",
    "        return max(output)\n",
    "    elif return_type == 'min':\n",
    "        return min(output)\n",
    "    else:\n",
    "        raise ValueError(\"Incorrect input for return_type. Please use min or max (default).\")\n"
   ]
  },
  {
   "cell_type": "markdown",
   "id": "694a0f97",
   "metadata": {},
   "source": [
    "#### 6. The following is a test case that will be used on your function. \n",
    "**NO WORK SHOULD BE DONE IN THE FOLLOWING BOX, BUT RUN IT TO CHECK ACCURACY**"
   ]
  },
  {
   "cell_type": "code",
   "execution_count": 11,
   "id": "20f3ddb6",
   "metadata": {
    "ExecuteTime": {
     "end_time": "2024-03-07T15:35:17.725410Z",
     "start_time": "2024-03-07T15:35:17.705183Z"
    }
   },
   "outputs": [
    {
     "ename": "ValueError",
     "evalue": "Incorrect input for return_type. Please use min or max (default).",
     "output_type": "error",
     "traceback": [
      "\u001B[0;31m---------------------------------------------------------------------------\u001B[0m",
      "\u001B[0;31mValueError\u001B[0m                                Traceback (most recent call last)",
      "Cell \u001B[0;32mIn[11], line 2\u001B[0m\n\u001B[1;32m      1\u001B[0m \u001B[38;5;66;03m#test case 1\u001B[39;00m\n\u001B[0;32m----> 2\u001B[0m \u001B[38;5;28mprint\u001B[39m(maximum_math_facts(\u001B[38;5;241m10\u001B[39m, \u001B[38;5;241m-\u001B[39m\u001B[38;5;241m5\u001B[39m, return_type\u001B[38;5;241m=\u001B[39m\u001B[38;5;124m\"\u001B[39m\u001B[38;5;124mother\u001B[39m\u001B[38;5;124m\"\u001B[39m))\n",
      "Cell \u001B[0;32mIn[10], line 22\u001B[0m, in \u001B[0;36mmaximum_math_facts\u001B[0;34m(num_1, num_2, return_type)\u001B[0m\n\u001B[1;32m     20\u001B[0m     \u001B[38;5;28;01mreturn\u001B[39;00m \u001B[38;5;28mmin\u001B[39m(output)\n\u001B[1;32m     21\u001B[0m \u001B[38;5;28;01melse\u001B[39;00m:\n\u001B[0;32m---> 22\u001B[0m     \u001B[38;5;28;01mraise\u001B[39;00m \u001B[38;5;167;01mValueError\u001B[39;00m(\u001B[38;5;124m\"\u001B[39m\u001B[38;5;124mIncorrect input for return_type. Please use min or max (default).\u001B[39m\u001B[38;5;124m\"\u001B[39m)\n",
      "\u001B[0;31mValueError\u001B[0m: Incorrect input for return_type. Please use min or max (default)."
     ]
    }
   ],
   "source": [
    "#test case 1\n",
    "print(maximum_math_facts(10, -5, return_type=\"other\"))\n"
   ]
  },
  {
   "cell_type": "markdown",
   "id": "9a398be8",
   "metadata": {},
   "source": [
    "#### 7. Now, we will think about Arbitrary Arguments(*args) and Arbitrary Keyword Arguments(**kwargs). \n",
    "\n",
    "#### Why are *args and **kwargs useful/what do they allow us to do?"
   ]
  },
  {
   "cell_type": "markdown",
   "id": "3b8ea2ad",
   "metadata": {},
   "source": [
    "*args and **kwargs allow us to enter an indefinite amount of arguments in a function. "
   ]
  },
  {
   "cell_type": "markdown",
   "id": "a5dca9b2",
   "metadata": {},
   "source": [
    "#### 8. What is the difference between the two (think of what it means to be a *Keyword* argument)?"
   ]
  },
  {
   "cell_type": "markdown",
   "id": "41980bf3",
   "metadata": {},
   "source": [
    "**kwargs specifically allow a keyword to be passed alongside the value. This pairs well with the dictionary data type. *args are just the argument themselves."
   ]
  },
  {
   "cell_type": "markdown",
   "id": "a9463206",
   "metadata": {},
   "source": [
    "#### 9. How can you identify *args and **kwargs in a function definition?\n"
   ]
  },
  {
   "cell_type": "markdown",
   "source": [
    "def do_something(*args, **kwargs):\n",
    "    ...\n",
    "    \n",
    "*args have a single asterisk\n",
    "**kwargs have a double asterisk "
   ],
   "metadata": {
    "collapsed": false
   },
   "id": "ebf8a1d6cbd76723"
  },
  {
   "cell_type": "markdown",
   "id": "47a98d4a",
   "metadata": {},
   "source": [
    "### 10: In the cells below, there is written a recursive function to find the nth value of the Fibonacci Sequence and an example. Regarding this function, identify the following:"
   ]
  },
  {
   "cell_type": "markdown",
   "id": "4b31c3f1",
   "metadata": {},
   "source": [
    "Iteration variable: n"
   ]
  },
  {
   "cell_type": "markdown",
   "id": "933c5a9e",
   "metadata": {},
   "source": [
    "Base Case: When iteration variable is less than 1\n"
   ]
  },
  {
   "cell_type": "markdown",
   "id": "ddff827d",
   "metadata": {},
   "source": [
    "Function Case: When iteration variable is greater than or equal to 1"
   ]
  },
  {
   "cell_type": "code",
   "execution_count": 13,
   "id": "f886d24d",
   "metadata": {
    "ExecuteTime": {
     "end_time": "2024-03-07T15:44:35.020036Z",
     "start_time": "2024-03-07T15:44:35.013435Z"
    }
   },
   "outputs": [],
   "source": [
    "#here is the function definition:\n",
    "def fibonacci(n):\n",
    "    \"\"\"\n",
    "    Calculates the n-th Fibonacci number using recursion.\n",
    "    Args:\n",
    "        n (int): Non-negative integer.\n",
    "    Returns:\n",
    "        int: The n-th Fibonacci number.\n",
    "    \"\"\"\n",
    "    if n <= 1:\n",
    "        return n\n",
    "    \n",
    "    else:\n",
    "        \n",
    "        return fibonacci(n - 1) + fibonacci(n - 2)"
   ]
  },
  {
   "cell_type": "code",
   "execution_count": 14,
   "id": "2b3be593",
   "metadata": {
    "ExecuteTime": {
     "end_time": "2024-03-07T15:44:35.411674Z",
     "start_time": "2024-03-07T15:44:35.405611Z"
    }
   },
   "outputs": [
    {
     "name": "stdout",
     "output_type": "stream",
     "text": [
      "The 6th fibonacci number is 8.\n"
     ]
    }
   ],
   "source": [
    "# Example usage:\n",
    "n_value = 6\n",
    "fib_result = fibonacci(n_value)\n",
    "print(\"The\", str(n_value) + \"th\", \"fibonacci number is\", str(fib_result) + \".\", sep=\" \")"
   ]
  },
  {
   "cell_type": "code",
   "outputs": [],
   "source": [],
   "metadata": {
    "collapsed": false
   },
   "id": "a6d0b4bbd87c5cf1"
  }
 ],
 "metadata": {
  "kernelspec": {
   "display_name": "Python 3 (ipykernel)",
   "language": "python",
   "name": "python3"
  },
  "language_info": {
   "codemirror_mode": {
    "name": "ipython",
    "version": 3
   },
   "file_extension": ".py",
   "mimetype": "text/x-python",
   "name": "python",
   "nbconvert_exporter": "python",
   "pygments_lexer": "ipython3",
   "version": "3.9.18"
  }
 },
 "nbformat": 4,
 "nbformat_minor": 5
}
