{
 "cells": [
  {
   "cell_type": "markdown",
   "id": "f49d7fe2",
   "metadata": {},
   "source": [
    "#### For each lesson, there will be a corresponding lab to complete during the Thursday portion of class. To complete the lab, simply follow the cells step-by-step, adding your code where appropriate. Be sure to run your code to ensure correctness and completeness without errors. \n",
    "\n",
    "# Lecture 8 Lab\n",
    "In this lab, we'll be reviewing the basics of objects in Python, and work with manipulating string functions.\n",
    "\n",
    "## Prompt\n",
    "Use your knowledge of Python to address each of the following prompts."
   ]
  },
  {
   "cell_type": "markdown",
   "id": "2f34c861",
   "metadata": {},
   "source": [
    "#### 1. What are the two components to objects in Python that were discussed in the slides? Provide a simple definition for each, from the slides. \n",
    "\n",
    "\n",
    "        "
   ]
  },
  {
   "cell_type": "markdown",
   "id": "93d6d8bc",
   "metadata": {},
   "source": [
    "Parameters: Things the object has, like the value of a variable\n",
    "Methods: Things the object can do, ~ functions"
   ]
  },
  {
   "cell_type": "markdown",
   "id": "0d08fe38",
   "metadata": {},
   "source": [
    "#### 2. Suppose you have a database storing information about marbles. Each marble has 3 parameters: Size, Color, Material.\n",
    "\n",
    "#### How would you return the Color of marble_1? (Think back to our student example in the slides)"
   ]
  },
  {
   "cell_type": "markdown",
   "id": "ce1a1e12",
   "metadata": {},
   "source": [
    "marble_1.color"
   ]
  },
  {
   "cell_type": "markdown",
   "id": "759bf6dc",
   "metadata": {},
   "source": [
    "#### 3. Suppose your marble_1 has a method, recolor(), that changes its color. The method accepts one necessary argument, which is a string of the color you want to change to. How would you call the recolor() method of marble_1 to recolor it \"blue\"?"
   ]
  },
  {
   "cell_type": "markdown",
   "id": "df7214bd",
   "metadata": {},
   "source": [
    "marble_1.recolor(\"blue\")"
   ]
  },
  {
   "cell_type": "markdown",
   "id": "cc4e7971",
   "metadata": {},
   "source": [
    "#### Now, lets apply our knowledge of objects, parameters, and methods in Python to manipulate strings.\n",
    "\n",
    "#### The following questions refer to the string *squirrel_string* defined below."
   ]
  },
  {
   "cell_type": "code",
   "execution_count": 1,
   "id": "c89e1a91",
   "metadata": {
    "ExecuteTime": {
     "end_time": "2024-03-21T14:14:25.776752Z",
     "start_time": "2024-03-21T14:14:25.772562Z"
    }
   },
   "outputs": [],
   "source": [
    "squirrel_string = \"       \\t     \\t  The other day, I saw 9 squirrels named Stephan scurrying quickly to San Siro.\\nIt was a sorry shame the scurrying squirrels weren't named Samantha.\\nIf I added my single squirrel to the group, it would be 9 squirrels named Stephan, and one squirrel named Samantha.\\nIn my opinion, squirrels are such strange creatures.\""
   ]
  },
  {
   "cell_type": "markdown",
   "id": "abd6a5ca",
   "metadata": {},
   "source": [
    "#### 4. Notice the whitespace at the beginning of *squirrel_string*. Apply a Parsing Method to remove this whitespace, saving the output to the variable *squirrel_string* (fixing the whitespace issue!)"
   ]
  },
  {
   "cell_type": "code",
   "execution_count": 2,
   "id": "dcc6e315",
   "metadata": {
    "ExecuteTime": {
     "end_time": "2024-03-21T14:15:13.662827Z",
     "start_time": "2024-03-21T14:15:13.656769Z"
    }
   },
   "outputs": [
    {
     "name": "stdout",
     "output_type": "stream",
     "text": [
      "The other day, I saw 9 squirrels named Stephan scurrying quickly to San Siro.\n",
      "It was a sorry shame the scurrying squirrels weren't named Samantha.\n",
      "If I added my single squirrel to the group, it would be 9 squirrels named Stephan, and one squirrel named Samantha.\n",
      "In my opinion, squirrels are such strange creatures.\n"
     ]
    }
   ],
   "source": [
    "squirrel_string = squirrel_string.lstrip()\n",
    "print(squirrel_string)"
   ]
  },
  {
   "cell_type": "markdown",
   "id": "91d9ea0c",
   "metadata": {},
   "source": [
    "#### 5. Convert *squirrel_string* to Title Case using one of the Appearance Methods, and assign its value to a variable named *title_squirrel_string*. Then, use one of the Is Methods to confirm that *title_squirrel_string* is in Title Case."
   ]
  },
  {
   "cell_type": "code",
   "execution_count": 3,
   "id": "df13910a",
   "metadata": {
    "ExecuteTime": {
     "end_time": "2024-03-21T14:16:01.350676Z",
     "start_time": "2024-03-21T14:16:01.345644Z"
    }
   },
   "outputs": [
    {
     "name": "stdout",
     "output_type": "stream",
     "text": [
      "True\n"
     ]
    }
   ],
   "source": [
    "squirrel_string = squirrel_string.title()\n",
    "print(squirrel_string.istitle())"
   ]
  },
  {
   "cell_type": "markdown",
   "id": "01a14c7c",
   "metadata": {},
   "source": [
    "#### 6. Count the number of occurances of the substring \"squirrel\" in *squirrel_string*."
   ]
  },
  {
   "cell_type": "code",
   "execution_count": 7,
   "id": "bc733968",
   "metadata": {
    "ExecuteTime": {
     "end_time": "2024-03-21T14:19:36.782961Z",
     "start_time": "2024-03-21T14:19:36.768505Z"
    }
   },
   "outputs": [
    {
     "data": {
      "text/plain": "6"
     },
     "execution_count": 7,
     "metadata": {},
     "output_type": "execute_result"
    }
   ],
   "source": [
    "squirrel_string.lower().count(\"squirrel\")"
   ]
  },
  {
   "cell_type": "markdown",
   "id": "e3c5e10f",
   "metadata": {},
   "source": [
    "#### 7. Now, replace all occurances of the substring \"squirrel\" with \"beaver\". Assign the replaced string to the variable *beaver_string*."
   ]
  },
  {
   "cell_type": "code",
   "execution_count": 9,
   "id": "2e24cc65",
   "metadata": {
    "ExecuteTime": {
     "end_time": "2024-03-21T14:20:00.992047Z",
     "start_time": "2024-03-21T14:20:00.988955Z"
    }
   },
   "outputs": [
    {
     "name": "stdout",
     "output_type": "stream",
     "text": [
      "the other day, i saw 9 beavers named stephan scurrying quickly to san siro.\n",
      "it was a sorry shame the scurrying beavers weren't named samantha.\n",
      "if i added my single beaver to the group, it would be 9 beavers named stephan, and one beaver named samantha.\n",
      "in my opinion, beavers are such strange creatures.\n"
     ]
    }
   ],
   "source": [
    "beaver_string = squirrel_string.lower().replace(\"squirrel\", \"beaver\")\n",
    "print(beaver_string)"
   ]
  },
  {
   "cell_type": "markdown",
   "id": "2bf44dde",
   "metadata": {},
   "source": [
    "#### 8. Join *squirrel_string* and *beaver_string* with a newline, the string \"New Animal\", and another newline. (this should all be one string, on which you call the join method and provide the *squirrel_string* and *beaver_string*, keep escape characters in mind)"
   ]
  },
  {
   "cell_type": "code",
   "execution_count": 18,
   "id": "c7449649",
   "metadata": {
    "ExecuteTime": {
     "end_time": "2024-03-21T14:48:02.511188Z",
     "start_time": "2024-03-21T14:48:02.504509Z"
    }
   },
   "outputs": [
    {
     "name": "stdout",
     "output_type": "stream",
     "text": [
      "The Other Day, I Saw 9 Squirrels Named Stephan Scurrying Quickly To San Siro.\n",
      "It Was A Sorry Shame The Scurrying Squirrels Weren'T Named Samantha.\n",
      "If I Added My Single Squirrel To The Group, It Would Be 9 Squirrels Named Stephan, And One Squirrel Named Samantha.\n",
      "In My Opinion, Squirrels Are Such Strange Creatures.\n",
      "the other day, i saw 9 beavers named stephan scurrying quickly to san siro.\n",
      "it was a sorry shame the scurrying beavers weren't named samantha.\n",
      "if i added my single beaver to the group, it would be 9 beavers named stephan, and one beaver named samantha.\n",
      "in my opinion, beavers are such strange creatures.\n",
      "New Animal\n"
     ]
    }
   ],
   "source": [
    "num8 = \"\\n\".join([squirrel_string, beaver_string, \"New Animal\", \"\"])\n",
    "print(num8)"
   ]
  },
  {
   "cell_type": "markdown",
   "id": "618c0918",
   "metadata": {},
   "source": [
    "#### 9. Using a Parsing Method, split the *squirrel_string* on newlines. Save the list to a variable *squirrels_list*. \n",
    "\n",
    "#### Then, using a built-in Python function learned previously, count the number of lines in *squirrel_string* (think of what *squirrels_list* is, and how it relates to the string *squirrel_string*)."
   ]
  },
  {
   "cell_type": "code",
   "execution_count": 20,
   "id": "ca7a14b6",
   "metadata": {
    "ExecuteTime": {
     "end_time": "2024-03-21T14:49:48.924153Z",
     "start_time": "2024-03-21T14:49:48.917476Z"
    }
   },
   "outputs": [
    {
     "name": "stdout",
     "output_type": "stream",
     "text": [
      "4\n"
     ]
    }
   ],
   "source": [
    "squirrel_list = squirrel_string.splitlines()\n",
    "print(len(squirrel_list))"
   ]
  },
  {
   "cell_type": "markdown",
   "id": "9731be45",
   "metadata": {},
   "source": [
    "####  10. To reinforce how to use the Format method, write a line of code that collects user input and assigns it to the variable *user_number*.\n",
    "\n",
    "#### Then, use the format method to write a string that says \"The number you have input is (user_number).\""
   ]
  },
  {
   "cell_type": "code",
   "execution_count": 2,
   "id": "18f57ee9",
   "metadata": {
    "ExecuteTime": {
     "end_time": "2024-03-21T14:55:27.902114Z",
     "start_time": "2024-03-21T14:55:24.904321Z"
    }
   },
   "outputs": [
    {
     "name": "stdout",
     "output_type": "stream",
     "text": [
      "Invalid input\n",
      "The number you have input is 5.0\n"
     ]
    }
   ],
   "source": [
    "while True:\n",
    "    user_number = input(\"Enter a number\")\n",
    "    \n",
    "    try:\n",
    "        user_number = float(user_number)\n",
    "    except ValueError:\n",
    "        print(\"Invalid input\")\n",
    "        continue\n",
    "    else:\n",
    "        print(\"The number you have input is {user_number}\".format(user_number=user_number))\n",
    "        break\n"
   ]
  },
  {
   "cell_type": "markdown",
   "id": "bcc5f8a1",
   "metadata": {},
   "source": [
    "#### 11. Write a simple program that takes a string of comma seperated passwords (For example: \"password, Passw0rd, Pa$$word\") as user input. \n",
    "\n",
    "#### The program should then take this input and seperate it on the commas (using the methods of strings). This will generate a list.\n",
    "\n",
    "#### Finally, write a loop should iterate through the list for each string:\n",
    "     - stripping any whitespace\n",
    "     - then, if the result is alphanumeric, printing \"Valid Password\"\n",
    "     - if not, print \"Invalid Password\""
   ]
  },
  {
   "cell_type": "code",
   "execution_count": 4,
   "id": "6f94345f",
   "metadata": {
    "ExecuteTime": {
     "end_time": "2024-03-21T15:02:51.655125Z",
     "start_time": "2024-03-21T15:02:42.907409Z"
    }
   },
   "outputs": [
    {
     "name": "stdout",
     "output_type": "stream",
     "text": [
      "Valid Password: password\n",
      "Valid Password:  Passw0rd\n",
      "Invalid Password:  Pa$$word\n"
     ]
    }
   ],
   "source": [
    "user_input = input(\"Enter a string of comma separated passwords: \")\n",
    "user_list = user_input.split(\",\")\n",
    "for elem in user_list:\n",
    "    if elem.strip().isalnum():\n",
    "        print(f\"Valid Password: {elem}\")\n",
    "    else:\n",
    "        print(f\"Invalid Password: {elem}\")\n",
    "    "
   ]
  },
  {
   "cell_type": "code",
   "outputs": [],
   "source": [],
   "metadata": {
    "collapsed": false
   },
   "id": "bc07bcc1fbaf58ee"
  }
 ],
 "metadata": {
  "kernelspec": {
   "display_name": "Python 3 (ipykernel)",
   "language": "python",
   "name": "python3"
  },
  "language_info": {
   "codemirror_mode": {
    "name": "ipython",
    "version": 3
   },
   "file_extension": ".py",
   "mimetype": "text/x-python",
   "name": "python",
   "nbconvert_exporter": "python",
   "pygments_lexer": "ipython3",
   "version": "3.9.18"
  }
 },
 "nbformat": 4,
 "nbformat_minor": 5
}
