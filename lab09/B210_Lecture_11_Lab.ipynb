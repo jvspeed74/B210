{
 "cells": [
  {
   "cell_type": "markdown",
   "id": "f49d7fe2",
   "metadata": {},
   "source": [
    "#### For each lesson, there will be a corresponding lab to complete during the Thursday portion of class. To complete the lab, simply follow the cells step-by-step, adding your code where appropriate. Be sure to run your code to ensure correctness and completeness without errors. \n",
    "\n",
    "# Lab 9\n",
    "In this lab, we'll be reviewing the basics of lists in Python, and work with manipulating list methods.\n",
    "\n",
    "## Prompt\n",
    "Use your knowledge of Python to address each of the following prompts."
   ]
  },
  {
   "cell_type": "markdown",
   "id": "2f34c861",
   "metadata": {},
   "source": [
    "#### 1. Let's review the basics of lists covered in Lecture 7.\n",
    "\n",
    " - First, define a list, named *not_div_2* that contains the following values: 53, 59, 61, 68, 71\n",
    " - Using list indexing, print 61.\n",
    " - Using list slicing, print the series of 61, 68, 71."
   ]
  },
  {
   "cell_type": "code",
   "execution_count": 1,
   "id": "b159f131",
   "metadata": {
    "ExecuteTime": {
     "end_time": "2024-03-28T16:50:54.738690Z",
     "start_time": "2024-03-28T16:50:54.733561Z"
    }
   },
   "outputs": [],
   "source": [
    "#define your list here\n",
    "not_div_2: list = [53, 59, 61, 68, 71]"
   ]
  },
  {
   "cell_type": "code",
   "execution_count": 2,
   "id": "3b8b8015",
   "metadata": {
    "ExecuteTime": {
     "end_time": "2024-03-28T16:50:54.743992Z",
     "start_time": "2024-03-28T16:50:54.739946Z"
    }
   },
   "outputs": [
    {
     "data": {
      "text/plain": "61"
     },
     "execution_count": 2,
     "metadata": {},
     "output_type": "execute_result"
    }
   ],
   "source": [
    "#print 61 here\n",
    "not_div_2[2]"
   ]
  },
  {
   "cell_type": "code",
   "execution_count": 3,
   "id": "a48c3eee",
   "metadata": {
    "ExecuteTime": {
     "end_time": "2024-03-28T16:50:54.747268Z",
     "start_time": "2024-03-28T16:50:54.744859Z"
    }
   },
   "outputs": [
    {
     "data": {
      "text/plain": "[61, 68, 71]"
     },
     "execution_count": 3,
     "metadata": {},
     "output_type": "execute_result"
    }
   ],
   "source": [
    "#print the series here\n",
    "not_div_2[2:]"
   ]
  },
  {
   "cell_type": "markdown",
   "id": "93d6d8bc",
   "metadata": {},
   "source": [
    "#### 2. Notice that 68 is divisible by 2. 67, however, is not. Substitute 68 for 67, as shown in the slide.\n",
    "\n",
    "#### Print the list *not_div_2* to check your work."
   ]
  },
  {
   "cell_type": "code",
   "execution_count": 4,
   "id": "b2d33617",
   "metadata": {
    "ExecuteTime": {
     "end_time": "2024-03-28T16:50:54.750192Z",
     "start_time": "2024-03-28T16:50:54.748459Z"
    }
   },
   "outputs": [
    {
     "name": "stdout",
     "output_type": "stream",
     "text": [
      "[53, 59, 61, 67, 71]\n"
     ]
    }
   ],
   "source": [
    "#substitute the value here\n",
    "not_div_2[3] = 67\n",
    "print(not_div_2)"
   ]
  },
  {
   "cell_type": "markdown",
   "id": "9ca15a99",
   "metadata": {},
   "source": [
    "#### 3. Your list should now contain the following values (which should all not be divisible by 2): 53, 59, 61, 67, 71\n",
    "\n",
    "#### Using a for loop, loop through the list, printing the result of each value divided by 2."
   ]
  },
  {
   "cell_type": "code",
   "execution_count": 5,
   "id": "845afd0e",
   "metadata": {
    "ExecuteTime": {
     "end_time": "2024-03-28T16:50:54.752837Z",
     "start_time": "2024-03-28T16:50:54.750849Z"
    }
   },
   "outputs": [
    {
     "name": "stdout",
     "output_type": "stream",
     "text": [
      "26.5\n",
      "29.5\n",
      "30.5\n",
      "33.5\n",
      "35.5\n"
     ]
    }
   ],
   "source": [
    "#loop through the list here\n",
    "for num in not_div_2:\n",
    "    print(num/2)"
   ]
  },
  {
   "cell_type": "markdown",
   "id": "44f6a0b7",
   "metadata": {},
   "source": [
    "#### 4. In Python, there are various ways to move from a list to a string, each doing so in a different way. It is important to understand how each works to determine the best use cases.\n",
    "\n",
    " - Given the string defined below:\n",
    "\n",
    "   - One way to accomplish this we discussed last week is the split() method of strings. Use split() to split the string on spaces and print the result.\n",
    "   \n",
    "   - The second way to accomplish this was learned this week. Use list() to convert the string to a list and print the result."
   ]
  },
  {
   "cell_type": "code",
   "execution_count": 6,
   "id": "00b0c5d9",
   "metadata": {
    "ExecuteTime": {
     "end_time": "2024-03-28T16:50:54.761656Z",
     "start_time": "2024-03-28T16:50:54.760198Z"
    }
   },
   "outputs": [],
   "source": [
    "#string defined here\n",
    "my_string = \"Today is Thursday.\""
   ]
  },
  {
   "cell_type": "code",
   "execution_count": 7,
   "id": "d644a722",
   "metadata": {
    "ExecuteTime": {
     "end_time": "2024-03-28T16:50:54.788977Z",
     "start_time": "2024-03-28T16:50:54.786926Z"
    }
   },
   "outputs": [
    {
     "name": "stdout",
     "output_type": "stream",
     "text": [
      "['Today', 'is', 'Thursday.']\n"
     ]
    }
   ],
   "source": [
    "#split using split()\n",
    "print(my_string.split())"
   ]
  },
  {
   "cell_type": "code",
   "execution_count": 8,
   "id": "6ce7c05c",
   "metadata": {
    "ExecuteTime": {
     "end_time": "2024-03-28T16:50:54.798927Z",
     "start_time": "2024-03-28T16:50:54.796603Z"
    }
   },
   "outputs": [
    {
     "name": "stdout",
     "output_type": "stream",
     "text": [
      "['T', 'o', 'd', 'a', 'y', ' ', 'i', 's', ' ', 'T', 'h', 'u', 'r', 's', 'd', 'a', 'y', '.']\n"
     ]
    }
   ],
   "source": [
    "#split using list()\n",
    "print(list(my_string))"
   ]
  },
  {
   "cell_type": "markdown",
   "id": "0d08fe38",
   "metadata": {},
   "source": [
    "#### 5. Many times, you will find that Python data types (like lists) will contain other data types. Learning how to access these nested values is important.\n",
    "\n",
    "Suppose you have a row of data in a database as defined below.\n",
    "\n",
    " - How would you access all hobbies as a list? Write the code to do so.\n",
    " - How would you access \"fishing\"? Write the code to do so."
   ]
  },
  {
   "cell_type": "code",
   "execution_count": 9,
   "id": "15c817af",
   "metadata": {
    "ExecuteTime": {
     "end_time": "2024-03-28T16:50:54.801600Z",
     "start_time": "2024-03-28T16:50:54.799985Z"
    }
   },
   "outputs": [],
   "source": [
    "#list defined here\n",
    "name_birthday_hobbies = [\"Jon\", \"07/17/2011\", [\"running\", \"fishing\", \"swimming\"]]"
   ]
  },
  {
   "cell_type": "code",
   "execution_count": 10,
   "id": "53cf8c92",
   "metadata": {
    "ExecuteTime": {
     "end_time": "2024-03-28T16:50:54.807461Z",
     "start_time": "2024-03-28T16:50:54.805304Z"
    }
   },
   "outputs": [
    {
     "data": {
      "text/plain": "['running', 'fishing', 'swimming']"
     },
     "execution_count": 10,
     "metadata": {},
     "output_type": "execute_result"
    }
   ],
   "source": [
    "#access list of hobbies here\n",
    "name_birthday_hobbies[2]"
   ]
  },
  {
   "cell_type": "code",
   "execution_count": 11,
   "id": "53d7d94b",
   "metadata": {
    "ExecuteTime": {
     "end_time": "2024-03-28T16:50:54.836568Z",
     "start_time": "2024-03-28T16:50:54.834425Z"
    }
   },
   "outputs": [
    {
     "data": {
      "text/plain": "'fishing'"
     },
     "execution_count": 11,
     "metadata": {},
     "output_type": "execute_result"
    }
   ],
   "source": [
    "#access fishing here\n",
    "name_birthday_hobbies[2][1]"
   ]
  },
  {
   "cell_type": "markdown",
   "id": "39dcf13b",
   "metadata": {},
   "source": [
    "#### 6. Much like strings, lists can be added and multiplied. \n",
    "\n",
    " - Concatenate the following lists, saving the result to a variable named *combi_var*.\n",
    " - Replicate combi_var 3 times."
   ]
  },
  {
   "cell_type": "code",
   "execution_count": 12,
   "id": "6a06f2e6",
   "metadata": {
    "ExecuteTime": {
     "end_time": "2024-03-28T16:50:54.847352Z",
     "start_time": "2024-03-28T16:50:54.844766Z"
    }
   },
   "outputs": [],
   "source": [
    "#define lists\n",
    "list_1 = [1, 3, 5]\n",
    "list_2 = [7, 9]"
   ]
  },
  {
   "cell_type": "code",
   "execution_count": 13,
   "id": "ea74c4f3",
   "metadata": {
    "ExecuteTime": {
     "end_time": "2024-03-28T16:50:54.852071Z",
     "start_time": "2024-03-28T16:50:54.848802Z"
    }
   },
   "outputs": [
    {
     "name": "stdout",
     "output_type": "stream",
     "text": [
      "[1, 3, 5, 7, 9]\n"
     ]
    }
   ],
   "source": [
    "#concatenate\n",
    "combi_var = list_1 + list_2\n",
    "print(combi_var)"
   ]
  },
  {
   "cell_type": "code",
   "execution_count": 14,
   "id": "80f992f0",
   "metadata": {
    "ExecuteTime": {
     "end_time": "2024-03-28T16:50:54.859708Z",
     "start_time": "2024-03-28T16:50:54.857648Z"
    }
   },
   "outputs": [
    {
     "name": "stdout",
     "output_type": "stream",
     "text": [
      "[1, 3, 5, 7, 9, 1, 3, 5, 7, 9, 1, 3, 5, 7, 9]\n"
     ]
    }
   ],
   "source": [
    "#replicate\n",
    "print(combi_var * 3)"
   ]
  },
  {
   "cell_type": "markdown",
   "id": "ce1a1e12",
   "metadata": {},
   "source": [
    "#### 7. Below I have started a list of majors here at Luddy. \n",
    "\n",
    "- Using the appropriate method, add \"Informatics\" to the list."
   ]
  },
  {
   "cell_type": "code",
   "execution_count": 15,
   "id": "ef50cb2d",
   "metadata": {
    "ExecuteTime": {
     "end_time": "2024-03-28T16:50:54.881117Z",
     "start_time": "2024-03-28T16:50:54.879446Z"
    }
   },
   "outputs": [],
   "source": [
    "#first definition\n",
    "luddy_majors = [\"MAS\", \"ADIS\", \"Engineering\", \"HIM\", \"BMI\"]"
   ]
  },
  {
   "cell_type": "code",
   "execution_count": 16,
   "id": "7163beec",
   "metadata": {
    "ExecuteTime": {
     "end_time": "2024-03-28T16:50:54.892243Z",
     "start_time": "2024-03-28T16:50:54.889419Z"
    }
   },
   "outputs": [
    {
     "name": "stdout",
     "output_type": "stream",
     "text": [
      "['MAS', 'ADIS', 'Engineering', 'HIM', 'BMI', 'Informatics']\n"
     ]
    }
   ],
   "source": [
    "#add here\n",
    "luddy_majors.append(\"Informatics\")\n",
    "print(luddy_majors)"
   ]
  },
  {
   "cell_type": "markdown",
   "id": "66b7b5c5",
   "metadata": {},
   "source": [
    "#### 8. Using the appropriate method (not concatenation), add the *new_majors* list to the majors."
   ]
  },
  {
   "cell_type": "code",
   "execution_count": 17,
   "id": "86092361",
   "metadata": {
    "ExecuteTime": {
     "end_time": "2024-03-28T16:50:54.895548Z",
     "start_time": "2024-03-28T16:50:54.893359Z"
    }
   },
   "outputs": [],
   "source": [
    "#definition of new_majors\n",
    "new_majors = [\"Computer Science\", \"Engineering\"]"
   ]
  },
  {
   "cell_type": "code",
   "execution_count": 18,
   "id": "c748bc14",
   "metadata": {
    "ExecuteTime": {
     "end_time": "2024-03-28T16:50:54.902807Z",
     "start_time": "2024-03-28T16:50:54.900058Z"
    }
   },
   "outputs": [
    {
     "name": "stdout",
     "output_type": "stream",
     "text": [
      "['MAS', 'ADIS', 'Engineering', 'HIM', 'BMI', 'Informatics', 'Computer Science', 'Engineering']\n"
     ]
    }
   ],
   "source": [
    "#add here\n",
    "luddy_majors.extend(new_majors)\n",
    "print(luddy_majors)"
   ]
  },
  {
   "cell_type": "markdown",
   "id": "4e87c4fd",
   "metadata": {},
   "source": [
    "#### 9. Using the appropriate method, determine the count of \"Engineering\" in the updated list."
   ]
  },
  {
   "cell_type": "code",
   "execution_count": 19,
   "id": "1707cafa",
   "metadata": {
    "ExecuteTime": {
     "end_time": "2024-03-28T16:50:54.936652Z",
     "start_time": "2024-03-28T16:50:54.933741Z"
    }
   },
   "outputs": [
    {
     "data": {
      "text/plain": "2"
     },
     "execution_count": 19,
     "metadata": {},
     "output_type": "execute_result"
    }
   ],
   "source": [
    "luddy_majors.count(\"Engineering\")"
   ]
  },
  {
   "cell_type": "markdown",
   "id": "07350741",
   "metadata": {},
   "source": [
    "#### 10. Using the appropriate method, remove the first instance of Engineering from the list."
   ]
  },
  {
   "cell_type": "code",
   "execution_count": 20,
   "id": "b75e3ce6",
   "metadata": {
    "ExecuteTime": {
     "end_time": "2024-03-28T16:50:54.946805Z",
     "start_time": "2024-03-28T16:50:54.944574Z"
    }
   },
   "outputs": [
    {
     "name": "stdout",
     "output_type": "stream",
     "text": [
      "['MAS', 'ADIS', 'HIM', 'BMI', 'Informatics', 'Computer Science', 'Engineering']\n"
     ]
    }
   ],
   "source": [
    "luddy_majors.remove(\"Engineering\")\n",
    "print(luddy_majors)"
   ]
  },
  {
   "cell_type": "markdown",
   "id": "4aaaf571",
   "metadata": {},
   "source": [
    "#### 11. Using the appropriate method, determine the index of the remaining instance of \"Engineering\" in the list."
   ]
  },
  {
   "cell_type": "code",
   "execution_count": 21,
   "id": "1fb88eec",
   "metadata": {
    "ExecuteTime": {
     "end_time": "2024-03-28T16:50:54.954728Z",
     "start_time": "2024-03-28T16:50:54.951525Z"
    }
   },
   "outputs": [
    {
     "data": {
      "text/plain": "6"
     },
     "execution_count": 21,
     "metadata": {},
     "output_type": "execute_result"
    }
   ],
   "source": [
    "luddy_majors.index(\"Engineering\")"
   ]
  },
  {
   "cell_type": "markdown",
   "id": "19846a1f",
   "metadata": {},
   "source": [
    "#### 12. Based on the knowledge gained in the last problem, use a method to remove the second instance of \"Engineering\" based on index."
   ]
  },
  {
   "cell_type": "code",
   "execution_count": 23,
   "id": "f8b7157d",
   "metadata": {
    "ExecuteTime": {
     "end_time": "2024-03-28T16:51:46.906553Z",
     "start_time": "2024-03-28T16:51:46.894649Z"
    }
   },
   "outputs": [
    {
     "name": "stdout",
     "output_type": "stream",
     "text": [
      "Engineering\n",
      "['MAS', 'ADIS', 'HIM', 'BMI', 'Informatics', 'Computer Science']\n"
     ]
    }
   ],
   "source": [
    "print(luddy_majors.pop(6))\n",
    "print(luddy_majors)"
   ]
  },
  {
   "cell_type": "markdown",
   "id": "13c0df47",
   "metadata": {},
   "source": [
    "#### 13. Finally, sort the list in reverse order, using the appropriate method."
   ]
  },
  {
   "cell_type": "code",
   "execution_count": 24,
   "id": "8afc82b7",
   "metadata": {
    "ExecuteTime": {
     "end_time": "2024-03-28T16:51:49.058188Z",
     "start_time": "2024-03-28T16:51:49.055019Z"
    }
   },
   "outputs": [
    {
     "name": "stdout",
     "output_type": "stream",
     "text": [
      "['MAS', 'Informatics', 'HIM', 'Computer Science', 'BMI', 'ADIS']\n"
     ]
    }
   ],
   "source": [
    "luddy_majors.sort(reverse=True)\n",
    "print(luddy_majors)"
   ]
  },
  {
   "cell_type": "code",
   "outputs": [],
   "source": [],
   "metadata": {
    "collapsed": false
   },
   "id": "7193e989d83e1253"
  }
 ],
 "metadata": {
  "kernelspec": {
   "display_name": "Python 3 (ipykernel)",
   "language": "python",
   "name": "python3"
  },
  "language_info": {
   "codemirror_mode": {
    "name": "ipython",
    "version": 3
   },
   "file_extension": ".py",
   "mimetype": "text/x-python",
   "name": "python",
   "nbconvert_exporter": "python",
   "pygments_lexer": "ipython3",
   "version": "3.9.17"
  }
 },
 "nbformat": 4,
 "nbformat_minor": 5
}
